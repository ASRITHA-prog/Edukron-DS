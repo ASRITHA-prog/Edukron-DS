{
 "cells": [
  {
   "cell_type": "code",
   "execution_count": 1,
   "id": "a7b71dd6",
   "metadata": {},
   "outputs": [
    {
     "data": {
      "text/plain": [
       "'C:\\\\Users\\\\DERANGULA ASRITHA'"
      ]
     },
     "execution_count": 1,
     "metadata": {},
     "output_type": "execute_result"
    }
   ],
   "source": [
    "pwd"
   ]
  },
  {
   "cell_type": "code",
   "execution_count": 2,
   "id": "b96a5838",
   "metadata": {},
   "outputs": [
    {
     "data": {
      "text/plain": [
       "array([[6, 8, 7],\n",
       "       [1, 6, 3],\n",
       "       [9, 9, 0]])"
      ]
     },
     "execution_count": 2,
     "metadata": {},
     "output_type": "execute_result"
    }
   ],
   "source": [
    "import numpy as np\n",
    "data=np.random.randint(0,10,(3,3))\n",
    "data"
   ]
  },
  {
   "cell_type": "code",
   "execution_count": 3,
   "id": "ac9a5bc5",
   "metadata": {},
   "outputs": [],
   "source": [
    "# Array Creation operations"
   ]
  },
  {
   "cell_type": "code",
   "execution_count": 4,
   "id": "e5489f32",
   "metadata": {},
   "outputs": [
    {
     "data": {
      "text/plain": [
       "array([1, 2, 3])"
      ]
     },
     "execution_count": 4,
     "metadata": {},
     "output_type": "execute_result"
    }
   ],
   "source": [
    "np.array([1,2,3])"
   ]
  },
  {
   "cell_type": "code",
   "execution_count": 5,
   "id": "5ee35e9f",
   "metadata": {},
   "outputs": [
    {
     "data": {
      "text/plain": [
       "array([[0., 0., 0.],\n",
       "       [0., 0., 0.],\n",
       "       [0., 0., 0.]])"
      ]
     },
     "execution_count": 5,
     "metadata": {},
     "output_type": "execute_result"
    }
   ],
   "source": [
    "np.zeros((3,3))"
   ]
  },
  {
   "cell_type": "code",
   "execution_count": 6,
   "id": "cf0de7e7",
   "metadata": {},
   "outputs": [
    {
     "data": {
      "text/plain": [
       "array([[1., 1., 1.],\n",
       "       [1., 1., 1.],\n",
       "       [1., 1., 1.]])"
      ]
     },
     "execution_count": 6,
     "metadata": {},
     "output_type": "execute_result"
    }
   ],
   "source": [
    "np.ones((3,3))"
   ]
  },
  {
   "cell_type": "code",
   "execution_count": 7,
   "id": "95956c4e",
   "metadata": {},
   "outputs": [
    {
     "data": {
      "text/plain": [
       "array([1., 1., 1., 1., 1.])"
      ]
     },
     "execution_count": 7,
     "metadata": {},
     "output_type": "execute_result"
    }
   ],
   "source": [
    "np.ones(5)"
   ]
  },
  {
   "cell_type": "code",
   "execution_count": 8,
   "id": "f7032c92",
   "metadata": {},
   "outputs": [
    {
     "data": {
      "text/plain": [
       "array([ 0,  1,  2,  3,  4,  5,  6,  7,  8,  9, 10, 11, 12, 13, 14, 15, 16,\n",
       "       17, 18, 19, 20, 21, 22, 23, 24, 25, 26, 27, 28, 29, 30, 31, 32, 33,\n",
       "       34, 35, 36, 37, 38, 39, 40, 41, 42, 43, 44, 45, 46, 47, 48, 49, 50,\n",
       "       51, 52, 53, 54, 55, 56, 57, 58, 59, 60, 61, 62, 63, 64, 65, 66, 67,\n",
       "       68, 69, 70, 71, 72, 73, 74, 75, 76, 77, 78, 79, 80, 81, 82, 83, 84,\n",
       "       85, 86, 87, 88, 89, 90, 91, 92, 93, 94, 95, 96, 97, 98, 99])"
      ]
     },
     "execution_count": 8,
     "metadata": {},
     "output_type": "execute_result"
    }
   ],
   "source": [
    "np.arange(0,100)"
   ]
  },
  {
   "cell_type": "code",
   "execution_count": 9,
   "id": "c32b1f80",
   "metadata": {},
   "outputs": [
    {
     "data": {
      "text/plain": [
       "array([[1., 0., 0., 0., 0.],\n",
       "       [0., 1., 0., 0., 0.],\n",
       "       [0., 0., 1., 0., 0.],\n",
       "       [0., 0., 0., 1., 0.],\n",
       "       [0., 0., 0., 0., 1.]])"
      ]
     },
     "execution_count": 9,
     "metadata": {},
     "output_type": "execute_result"
    }
   ],
   "source": [
    "np.eye(5)"
   ]
  },
  {
   "cell_type": "code",
   "execution_count": 10,
   "id": "0cf1f386",
   "metadata": {},
   "outputs": [
    {
     "data": {
      "text/plain": [
       "array([ 0. ,  2.5,  5. ,  7.5, 10. ])"
      ]
     },
     "execution_count": 10,
     "metadata": {},
     "output_type": "execute_result"
    }
   ],
   "source": [
    "np.linspace(0,10,5)"
   ]
  },
  {
   "cell_type": "code",
   "execution_count": 11,
   "id": "edf751c0",
   "metadata": {},
   "outputs": [],
   "source": [
    "### Mathematical Functions"
   ]
  },
  {
   "cell_type": "code",
   "execution_count": 12,
   "id": "377f3c60",
   "metadata": {},
   "outputs": [
    {
     "data": {
      "text/plain": [
       "array([1, 7, 3, 6, 3, 6, 9, 3, 1, 7])"
      ]
     },
     "execution_count": 12,
     "metadata": {},
     "output_type": "execute_result"
    }
   ],
   "source": [
    "import numpy as np\n",
    "d=np.random.randint(0,10,10)\n",
    "d"
   ]
  },
  {
   "cell_type": "code",
   "execution_count": 13,
   "id": "679df238",
   "metadata": {},
   "outputs": [
    {
     "name": "stdout",
     "output_type": "stream",
     "text": [
      "[ 0.84147098  0.6569866   0.14112001 -0.2794155   0.14112001 -0.2794155\n",
      "  0.41211849  0.14112001  0.84147098  0.6569866 ]\n",
      "[ 0.54030231  0.75390225 -0.9899925   0.96017029 -0.9899925   0.96017029\n",
      " -0.91113026 -0.9899925   0.54030231  0.75390225]\n",
      "[ 1.55740772  0.87144798 -0.14254654 -0.29100619 -0.14254654 -0.29100619\n",
      " -0.45231566 -0.14254654  1.55740772  0.87144798]\n"
     ]
    }
   ],
   "source": [
    "print(np.sin(d))\n",
    "print(np.cos(d))\n",
    "print(np.tan(d))"
   ]
  },
  {
   "cell_type": "code",
   "execution_count": 19,
   "id": "8c045fc8",
   "metadata": {},
   "outputs": [
    {
     "name": "stdout",
     "output_type": "stream",
     "text": [
      "[ 0. nan nan nan nan nan nan nan  0. nan]\n",
      "\n",
      "[1.57079633        nan        nan        nan        nan        nan\n",
      "        nan        nan 1.57079633        nan]\n",
      "\n",
      "[0.78539816 1.42889927 1.24904577 1.40564765 1.24904577 1.40564765\n",
      " 1.46013911 1.24904577 0.78539816 1.42889927]\n"
     ]
    },
    {
     "name": "stderr",
     "output_type": "stream",
     "text": [
      "C:\\Users\\DERANGULA ASRITHA\\AppData\\Local\\Temp\\ipykernel_12876\\437330748.py:1: RuntimeWarning: invalid value encountered in arccos\n",
      "  print(np.arccos(d))\n",
      "C:\\Users\\DERANGULA ASRITHA\\AppData\\Local\\Temp\\ipykernel_12876\\437330748.py:3: RuntimeWarning: invalid value encountered in arcsin\n",
      "  print(np.arcsin(d))\n"
     ]
    }
   ],
   "source": [
    "print(np.arccos(d))\n",
    "print()\n",
    "print(np.arcsin(d))\n",
    "print()\n",
    "print(np.arctan(d))"
   ]
  },
  {
   "cell_type": "code",
   "execution_count": 70,
   "id": "5f255c51",
   "metadata": {},
   "outputs": [
    {
     "name": "stdout",
     "output_type": "stream",
     "text": [
      "[2 2 3 8 9 3 6 1 3 6]\n",
      "(array([0, 1, 2, 3, 4, 5, 6, 8, 9], dtype=int64),)\n"
     ]
    }
   ],
   "source": [
    "print(d)\n",
    "print(np.where((d < -1) | (d > 1)))  # Indices of invalid values"
   ]
  },
  {
   "cell_type": "code",
   "execution_count": 71,
   "id": "66e0f9a5",
   "metadata": {},
   "outputs": [
    {
     "name": "stdout",
     "output_type": "stream",
     "text": [
      "[0. 0. 0. 0. 0. 0. 0. 0. 0. 0.]\n",
      "[1.57079633 1.57079633 1.57079633 1.57079633 1.57079633 1.57079633\n",
      " 1.57079633 1.57079633 1.57079633 1.57079633]\n"
     ]
    }
   ],
   "source": [
    "d_clipped = np.clip(d, -1, 1)\n",
    "print(np.arccos(d_clipped))\n",
    "print(np.arcsin(d_clipped))"
   ]
  },
  {
   "cell_type": "code",
   "execution_count": 72,
   "id": "72103123",
   "metadata": {},
   "outputs": [
    {
     "name": "stdout",
     "output_type": "stream",
     "text": [
      "[0.]\n",
      "[1.57079633]\n"
     ]
    }
   ],
   "source": [
    "valid_mask = (d >= -1) & (d <= 1)\n",
    "print(np.arccos(d[valid_mask]))\n",
    "print(np.arcsin(d[valid_mask]))"
   ]
  },
  {
   "cell_type": "code",
   "execution_count": 20,
   "id": "c62feebe",
   "metadata": {},
   "outputs": [
    {
     "data": {
      "text/plain": [
       "array([0.        , 1.94591015, 1.09861229, 1.79175947, 1.09861229,\n",
       "       1.79175947, 2.19722458, 1.09861229, 0.        , 1.94591015])"
      ]
     },
     "execution_count": 20,
     "metadata": {},
     "output_type": "execute_result"
    }
   ],
   "source": [
    "np.log(d)"
   ]
  },
  {
   "cell_type": "code",
   "execution_count": 21,
   "id": "98d3a4c9",
   "metadata": {},
   "outputs": [
    {
     "data": {
      "text/plain": [
       "array([0.        , 2.80735492, 1.5849625 , 2.5849625 , 1.5849625 ,\n",
       "       2.5849625 , 3.169925  , 1.5849625 , 0.        , 2.80735492])"
      ]
     },
     "execution_count": 21,
     "metadata": {},
     "output_type": "execute_result"
    }
   ],
   "source": [
    "np.log2(d)"
   ]
  },
  {
   "cell_type": "code",
   "execution_count": 22,
   "id": "02592c2f",
   "metadata": {},
   "outputs": [
    {
     "data": {
      "text/plain": [
       "array([0.        , 0.84509804, 0.47712125, 0.77815125, 0.47712125,\n",
       "       0.77815125, 0.95424251, 0.47712125, 0.        , 0.84509804])"
      ]
     },
     "execution_count": 22,
     "metadata": {},
     "output_type": "execute_result"
    }
   ],
   "source": [
    "np.log10(d)"
   ]
  },
  {
   "cell_type": "code",
   "execution_count": 23,
   "id": "5cc3a476",
   "metadata": {},
   "outputs": [
    {
     "data": {
      "text/plain": [
       "2.718281828459045"
      ]
     },
     "execution_count": 23,
     "metadata": {},
     "output_type": "execute_result"
    }
   ],
   "source": [
    "np.e"
   ]
  },
  {
   "cell_type": "code",
   "execution_count": 24,
   "id": "206aa58e",
   "metadata": {},
   "outputs": [
    {
     "data": {
      "text/plain": [
       "0.5"
      ]
     },
     "execution_count": 24,
     "metadata": {},
     "output_type": "execute_result"
    }
   ],
   "source": [
    "np.log(np.sqrt(2.718281828459045))"
   ]
  },
  {
   "cell_type": "code",
   "execution_count": 25,
   "id": "b30f201c",
   "metadata": {},
   "outputs": [
    {
     "data": {
      "text/plain": [
       "0.2867"
      ]
     },
     "execution_count": 25,
     "metadata": {},
     "output_type": "execute_result"
    }
   ],
   "source": [
    "import math\n",
    "np.log(math.pow(2.718281828459045,0.2867))"
   ]
  },
  {
   "cell_type": "code",
   "execution_count": 26,
   "id": "50adcec5",
   "metadata": {},
   "outputs": [],
   "source": [
    "x=np.random.randint(0,10,(3,3))\n",
    "y=np.random.randint(0,10,(3,3))"
   ]
  },
  {
   "cell_type": "code",
   "execution_count": 27,
   "id": "17eeca2e",
   "metadata": {},
   "outputs": [
    {
     "data": {
      "text/plain": [
       "array([[5, 9, 7],\n",
       "       [2, 8, 3],\n",
       "       [3, 2, 3]])"
      ]
     },
     "execution_count": 27,
     "metadata": {},
     "output_type": "execute_result"
    }
   ],
   "source": [
    "x"
   ]
  },
  {
   "cell_type": "code",
   "execution_count": 28,
   "id": "44f1269d",
   "metadata": {},
   "outputs": [
    {
     "data": {
      "text/plain": [
       "array([[6, 9, 8],\n",
       "       [9, 6, 2],\n",
       "       [5, 8, 5]])"
      ]
     },
     "execution_count": 28,
     "metadata": {},
     "output_type": "execute_result"
    }
   ],
   "source": [
    "y"
   ]
  },
  {
   "cell_type": "code",
   "execution_count": 29,
   "id": "0758544c",
   "metadata": {},
   "outputs": [
    {
     "data": {
      "text/plain": [
       "array([[11, 18, 15],\n",
       "       [11, 14,  5],\n",
       "       [ 8, 10,  8]])"
      ]
     },
     "execution_count": 29,
     "metadata": {},
     "output_type": "execute_result"
    }
   ],
   "source": [
    "x+y"
   ]
  },
  {
   "cell_type": "code",
   "execution_count": 30,
   "id": "bb0d0a5e",
   "metadata": {},
   "outputs": [
    {
     "data": {
      "text/plain": [
       "array([[11, 18, 15],\n",
       "       [11, 14,  5],\n",
       "       [ 8, 10,  8]])"
      ]
     },
     "execution_count": 30,
     "metadata": {},
     "output_type": "execute_result"
    }
   ],
   "source": [
    "np.add(x,y)"
   ]
  },
  {
   "cell_type": "code",
   "execution_count": 31,
   "id": "d3d141a9",
   "metadata": {},
   "outputs": [
    {
     "data": {
      "text/plain": [
       "array([[-1,  0, -1],\n",
       "       [-7,  2,  1],\n",
       "       [-2, -6, -2]])"
      ]
     },
     "execution_count": 31,
     "metadata": {},
     "output_type": "execute_result"
    }
   ],
   "source": [
    "np.subtract(x,y)"
   ]
  },
  {
   "cell_type": "code",
   "execution_count": 32,
   "id": "6082f878",
   "metadata": {},
   "outputs": [
    {
     "data": {
      "text/plain": [
       "array([[30, 81, 56],\n",
       "       [18, 48,  6],\n",
       "       [15, 16, 15]])"
      ]
     },
     "execution_count": 32,
     "metadata": {},
     "output_type": "execute_result"
    }
   ],
   "source": [
    "np.multiply(x,y)"
   ]
  },
  {
   "cell_type": "code",
   "execution_count": 33,
   "id": "45e62775",
   "metadata": {},
   "outputs": [
    {
     "data": {
      "text/plain": [
       "array([[0.83333333, 1.        , 0.875     ],\n",
       "       [0.22222222, 1.33333333, 1.5       ],\n",
       "       [0.6       , 0.25      , 0.6       ]])"
      ]
     },
     "execution_count": 33,
     "metadata": {},
     "output_type": "execute_result"
    }
   ],
   "source": [
    "np.divide(x,y)"
   ]
  },
  {
   "cell_type": "code",
   "execution_count": 34,
   "id": "86d6774b",
   "metadata": {},
   "outputs": [
    {
     "data": {
      "text/plain": [
       "array([[0, 1, 0],\n",
       "       [0, 1, 1],\n",
       "       [0, 0, 0]])"
      ]
     },
     "execution_count": 34,
     "metadata": {},
     "output_type": "execute_result"
    }
   ],
   "source": [
    "np.floor_divide(x,y)"
   ]
  },
  {
   "cell_type": "code",
   "execution_count": 35,
   "id": "ad29c417",
   "metadata": {},
   "outputs": [
    {
     "name": "stdout",
     "output_type": "stream",
     "text": [
      "[0.8 0.4 1.4 1.8 1.4 1.8 1.6 0.2 1.  1.6]\n"
     ]
    },
    {
     "data": {
      "text/plain": [
       "array([1., 1., 2., 2., 2., 2., 2., 1., 1., 2.])"
      ]
     },
     "execution_count": 35,
     "metadata": {},
     "output_type": "execute_result"
    }
   ],
   "source": [
    "d1=np.random.randint(0,10,10)/5\n",
    "print(d1)\n",
    "np.ceil(d1)"
   ]
  },
  {
   "cell_type": "code",
   "execution_count": 36,
   "id": "c167b0a5",
   "metadata": {},
   "outputs": [],
   "source": [
    "# Mathematical:\n",
    "#  Arithmetic\n",
    "#  exponential, log\n",
    "#  trigonometrics\n",
    "#  rounding"
   ]
  },
  {
   "cell_type": "code",
   "execution_count": 37,
   "id": "e44e2cc6",
   "metadata": {},
   "outputs": [
    {
     "data": {
      "text/plain": [
       "array([2, 2, 3, 8, 9, 3, 6, 1, 3, 6])"
      ]
     },
     "execution_count": 37,
     "metadata": {},
     "output_type": "execute_result"
    }
   ],
   "source": [
    "import numpy as np\n",
    "d=np.random.randint(0,10,10)\n",
    "d"
   ]
  },
  {
   "cell_type": "code",
   "execution_count": 38,
   "id": "bac06f11",
   "metadata": {},
   "outputs": [
    {
     "data": {
      "text/plain": [
       "array([8, 9, 6, 6])"
      ]
     },
     "execution_count": 38,
     "metadata": {},
     "output_type": "execute_result"
    }
   ],
   "source": [
    "d[d>5]"
   ]
  },
  {
   "cell_type": "code",
   "execution_count": 39,
   "id": "69a82844",
   "metadata": {},
   "outputs": [
    {
     "data": {
      "text/plain": [
       "array([65, 20, 16, 71, 11, 84, 54, 46, 30, 86, 23, 33, 52, 13,  5, 31, 59,\n",
       "       43, 51, 87])"
      ]
     },
     "execution_count": 39,
     "metadata": {},
     "output_type": "execute_result"
    }
   ],
   "source": [
    "marks=np.random.randint(0,100,20)\n",
    "marks"
   ]
  },
  {
   "cell_type": "code",
   "execution_count": 40,
   "id": "f8d026d8",
   "metadata": {},
   "outputs": [
    {
     "data": {
      "text/plain": [
       "array([65, 71, 84, 54, 86, 52, 59, 51, 87])"
      ]
     },
     "execution_count": 40,
     "metadata": {},
     "output_type": "execute_result"
    }
   ],
   "source": [
    "marks[marks>50]"
   ]
  },
  {
   "cell_type": "code",
   "execution_count": 41,
   "id": "04a8a244",
   "metadata": {},
   "outputs": [
    {
     "data": {
      "text/plain": [
       "array([65, 71, 84, 54, 46, 86, 52, 59, 51, 87])"
      ]
     },
     "execution_count": 41,
     "metadata": {},
     "output_type": "execute_result"
    }
   ],
   "source": [
    "marks[marks>np.mean(marks)]"
   ]
  },
  {
   "cell_type": "code",
   "execution_count": 42,
   "id": "42714f88",
   "metadata": {},
   "outputs": [
    {
     "data": {
      "text/plain": [
       "array([20, 16, 11, 30, 23, 33, 13,  5, 31, 43])"
      ]
     },
     "execution_count": 42,
     "metadata": {},
     "output_type": "execute_result"
    }
   ],
   "source": [
    "marks[marks<np.mean(marks)]"
   ]
  },
  {
   "cell_type": "code",
   "execution_count": 43,
   "id": "d09b4f3d",
   "metadata": {},
   "outputs": [],
   "source": [
    "# Array manipulation\n"
   ]
  },
  {
   "cell_type": "code",
   "execution_count": 44,
   "id": "c1d51b50",
   "metadata": {},
   "outputs": [
    {
     "data": {
      "text/plain": [
       "array([[10,  1,  5],\n",
       "       [ 1, 17, 10],\n",
       "       [17,  3,  4]])"
      ]
     },
     "execution_count": 44,
     "metadata": {},
     "output_type": "execute_result"
    }
   ],
   "source": [
    "z=np.random.randint(0,20,(3,3))\n",
    "z"
   ]
  },
  {
   "cell_type": "code",
   "execution_count": 45,
   "id": "547e6767",
   "metadata": {},
   "outputs": [
    {
     "data": {
      "text/plain": [
       "array([10,  1,  5,  1, 17, 10, 17,  3,  4])"
      ]
     },
     "execution_count": 45,
     "metadata": {},
     "output_type": "execute_result"
    }
   ],
   "source": [
    "np.ravel(z)    # ravel() method is used for falttening the array elements"
   ]
  },
  {
   "cell_type": "code",
   "execution_count": 46,
   "id": "a40a2e8e",
   "metadata": {},
   "outputs": [
    {
     "data": {
      "text/plain": [
       "array([[10,  1, 17],\n",
       "       [ 1, 17,  3],\n",
       "       [ 5, 10,  4]])"
      ]
     },
     "execution_count": 46,
     "metadata": {},
     "output_type": "execute_result"
    }
   ],
   "source": [
    "z.T   # T is a transpose of a array it converts rows to columns and columns to rows"
   ]
  },
  {
   "cell_type": "code",
   "execution_count": 47,
   "id": "0a122940",
   "metadata": {},
   "outputs": [
    {
     "data": {
      "text/plain": [
       "array([[ 3,  2,  6,  8, 10,  0, 19, 13,  9, 13],\n",
       "       [ 8, 19, 12,  4, 15, 17,  2,  5,  3,  0]])"
      ]
     },
     "execution_count": 47,
     "metadata": {},
     "output_type": "execute_result"
    }
   ],
   "source": [
    "z=np.random.randint(0,20,(20))\n",
    "z.reshape(2,10)"
   ]
  },
  {
   "cell_type": "code",
   "execution_count": 48,
   "id": "6d7aac68",
   "metadata": {},
   "outputs": [
    {
     "data": {
      "text/plain": [
       "array([[ 3,  2,  6,  8, 10],\n",
       "       [ 0, 19, 13,  9, 13],\n",
       "       [ 8, 19, 12,  4, 15],\n",
       "       [17,  2,  5,  3,  0]])"
      ]
     },
     "execution_count": 48,
     "metadata": {},
     "output_type": "execute_result"
    }
   ],
   "source": [
    "z.reshape(4,5)"
   ]
  },
  {
   "cell_type": "code",
   "execution_count": 49,
   "id": "54e4b74f",
   "metadata": {},
   "outputs": [
    {
     "data": {
      "text/plain": [
       "array([[ 3,  2,  6,  8],\n",
       "       [10,  0, 19, 13],\n",
       "       [ 9, 13,  8, 19],\n",
       "       [12,  4, 15, 17],\n",
       "       [ 2,  5,  3,  0]])"
      ]
     },
     "execution_count": 49,
     "metadata": {},
     "output_type": "execute_result"
    }
   ],
   "source": [
    "z.reshape(5,4)"
   ]
  },
  {
   "cell_type": "code",
   "execution_count": 50,
   "id": "bc6df6a0",
   "metadata": {},
   "outputs": [
    {
     "data": {
      "text/plain": [
       "array([[ 3,  2],\n",
       "       [ 6,  8],\n",
       "       [10,  0],\n",
       "       [19, 13],\n",
       "       [ 9, 13],\n",
       "       [ 8, 19],\n",
       "       [12,  4],\n",
       "       [15, 17],\n",
       "       [ 2,  5],\n",
       "       [ 3,  0]])"
      ]
     },
     "execution_count": 50,
     "metadata": {},
     "output_type": "execute_result"
    }
   ],
   "source": [
    "z.reshape(10,2)"
   ]
  },
  {
   "cell_type": "code",
   "execution_count": 51,
   "id": "adce4cdc",
   "metadata": {},
   "outputs": [],
   "source": [
    "d1=np.random.randint(0,20,(3,3))\n",
    "d2=np.random.randint(0,20,(3,3))"
   ]
  },
  {
   "cell_type": "code",
   "execution_count": 52,
   "id": "1e13eb15",
   "metadata": {},
   "outputs": [
    {
     "data": {
      "text/plain": [
       "array([[17,  5, 11],\n",
       "       [17, 10,  6],\n",
       "       [ 4,  8,  3]])"
      ]
     },
     "execution_count": 52,
     "metadata": {},
     "output_type": "execute_result"
    }
   ],
   "source": [
    "d1"
   ]
  },
  {
   "cell_type": "code",
   "execution_count": 53,
   "id": "998ddb53",
   "metadata": {},
   "outputs": [
    {
     "data": {
      "text/plain": [
       "array([[ 2, 15,  9],\n",
       "       [ 5,  6,  1],\n",
       "       [ 7, 13,  4]])"
      ]
     },
     "execution_count": 53,
     "metadata": {},
     "output_type": "execute_result"
    }
   ],
   "source": [
    "d2"
   ]
  },
  {
   "cell_type": "code",
   "execution_count": 54,
   "id": "4ef197ca",
   "metadata": {},
   "outputs": [
    {
     "data": {
      "text/plain": [
       "array([[17,  5, 11,  2, 15,  9],\n",
       "       [17, 10,  6,  5,  6,  1],\n",
       "       [ 4,  8,  3,  7, 13,  4]])"
      ]
     },
     "execution_count": 54,
     "metadata": {},
     "output_type": "execute_result"
    }
   ],
   "source": [
    "np.hstack([d1,d2])"
   ]
  },
  {
   "cell_type": "code",
   "execution_count": 55,
   "id": "a71de628",
   "metadata": {},
   "outputs": [
    {
     "data": {
      "text/plain": [
       "array([[17,  5, 11],\n",
       "       [17, 10,  6],\n",
       "       [ 4,  8,  3],\n",
       "       [ 2, 15,  9],\n",
       "       [ 5,  6,  1],\n",
       "       [ 7, 13,  4]])"
      ]
     },
     "execution_count": 55,
     "metadata": {},
     "output_type": "execute_result"
    }
   ],
   "source": [
    "np.vstack([d1,d2])"
   ]
  },
  {
   "cell_type": "code",
   "execution_count": 56,
   "id": "c3e65ce8",
   "metadata": {},
   "outputs": [
    {
     "data": {
      "text/plain": [
       "array([18, 14, 11, 12,  0, 12,  8, 17, 14,  7])"
      ]
     },
     "execution_count": 56,
     "metadata": {},
     "output_type": "execute_result"
    }
   ],
   "source": [
    "data=np.random.randint(0,20,10)\n",
    "data"
   ]
  },
  {
   "cell_type": "code",
   "execution_count": 57,
   "id": "4816e23c",
   "metadata": {},
   "outputs": [
    {
     "data": {
      "text/plain": [
       "[array([18, 14]),\n",
       " array([11, 12]),\n",
       " array([ 0, 12]),\n",
       " array([ 8, 17]),\n",
       " array([14,  7])]"
      ]
     },
     "execution_count": 57,
     "metadata": {},
     "output_type": "execute_result"
    }
   ],
   "source": [
    "np.split(data,5)"
   ]
  },
  {
   "cell_type": "code",
   "execution_count": 58,
   "id": "33dcd4b0",
   "metadata": {},
   "outputs": [
    {
     "data": {
      "text/plain": [
       "[array([18, 14, 11, 12,  0]), array([12,  8, 17, 14,  7])]"
      ]
     },
     "execution_count": 58,
     "metadata": {},
     "output_type": "execute_result"
    }
   ],
   "source": [
    "np.split(data,2)"
   ]
  },
  {
   "cell_type": "code",
   "execution_count": 60,
   "id": "5b5c10f9",
   "metadata": {},
   "outputs": [
    {
     "data": {
      "text/plain": [
       "[array([18, 14, 11]), array([12,  0, 12]), array([ 8, 17]), array([14,  7])]"
      ]
     },
     "execution_count": 60,
     "metadata": {},
     "output_type": "execute_result"
    }
   ],
   "source": [
    "np.array_split(data, 4)"
   ]
  },
  {
   "cell_type": "code",
   "execution_count": 61,
   "id": "0fc6cf31",
   "metadata": {},
   "outputs": [
    {
     "data": {
      "text/plain": [
       "array([[1, 2, 3, 4],\n",
       "       [5, 6, 7, 8]])"
      ]
     },
     "execution_count": 61,
     "metadata": {},
     "output_type": "execute_result"
    }
   ],
   "source": [
    "matrix=np.array([[1,2,3,4] ,[5,6,7,8]])\n",
    "matrix"
   ]
  },
  {
   "cell_type": "code",
   "execution_count": 62,
   "id": "14bb8407",
   "metadata": {},
   "outputs": [
    {
     "data": {
      "text/plain": [
       "[array([[1, 2],\n",
       "        [5, 6]]),\n",
       " array([[3, 4],\n",
       "        [7, 8]])]"
      ]
     },
     "execution_count": 62,
     "metadata": {},
     "output_type": "execute_result"
    }
   ],
   "source": [
    "np.hsplit(matrix,2)"
   ]
  },
  {
   "cell_type": "code",
   "execution_count": 63,
   "id": "cc35fc3f",
   "metadata": {},
   "outputs": [
    {
     "data": {
      "text/plain": [
       "[array([[1],\n",
       "        [5]]),\n",
       " array([[2],\n",
       "        [6]]),\n",
       " array([[3],\n",
       "        [7]]),\n",
       " array([[4],\n",
       "        [8]])]"
      ]
     },
     "execution_count": 63,
     "metadata": {},
     "output_type": "execute_result"
    }
   ],
   "source": [
    "np.hsplit(matrix,4)"
   ]
  },
  {
   "cell_type": "code",
   "execution_count": 64,
   "id": "dd5976a8",
   "metadata": {},
   "outputs": [],
   "source": [
    "matrix1 = np.array([[1, 2, 3, 4],\n",
    "                   [5, 6, 7, 8],\n",
    "                   [9, 10, 11, 12],\n",
    "                   [13, 14, 15, 16]])"
   ]
  },
  {
   "cell_type": "code",
   "execution_count": 65,
   "id": "3bf5b49c",
   "metadata": {},
   "outputs": [
    {
     "data": {
      "text/plain": [
       "array([[ 1,  2,  3,  4],\n",
       "       [ 5,  6,  7,  8],\n",
       "       [ 9, 10, 11, 12],\n",
       "       [13, 14, 15, 16]])"
      ]
     },
     "execution_count": 65,
     "metadata": {},
     "output_type": "execute_result"
    }
   ],
   "source": [
    "matrix1"
   ]
  },
  {
   "cell_type": "code",
   "execution_count": 66,
   "id": "375d5edd",
   "metadata": {},
   "outputs": [
    {
     "data": {
      "text/plain": [
       "[array([[1, 2, 3, 4],\n",
       "        [5, 6, 7, 8]]),\n",
       " array([[ 9, 10, 11, 12],\n",
       "        [13, 14, 15, 16]])]"
      ]
     },
     "execution_count": 66,
     "metadata": {},
     "output_type": "execute_result"
    }
   ],
   "source": [
    "np.vsplit(matrix1,2)"
   ]
  },
  {
   "cell_type": "code",
   "execution_count": 67,
   "id": "5463895a",
   "metadata": {},
   "outputs": [
    {
     "data": {
      "text/plain": [
       "[array([[1, 2, 3, 4]]),\n",
       " array([[5, 6, 7, 8]]),\n",
       " array([[ 9, 10, 11, 12]]),\n",
       " array([[13, 14, 15, 16]])]"
      ]
     },
     "execution_count": 67,
     "metadata": {},
     "output_type": "execute_result"
    }
   ],
   "source": [
    "np.vsplit(matrix1,4)"
   ]
  },
  {
   "cell_type": "code",
   "execution_count": 68,
   "id": "f41956aa",
   "metadata": {},
   "outputs": [
    {
     "data": {
      "text/plain": [
       "[array([[1, 2, 3, 4]]),\n",
       " array([[ 5,  6,  7,  8],\n",
       "        [ 9, 10, 11, 12]]),\n",
       " array([[13, 14, 15, 16]])]"
      ]
     },
     "execution_count": 68,
     "metadata": {},
     "output_type": "execute_result"
    }
   ],
   "source": [
    "np.vsplit(matrix1,[1,3])"
   ]
  },
  {
   "cell_type": "code",
   "execution_count": 69,
   "id": "bd677d0b",
   "metadata": {},
   "outputs": [
    {
     "data": {
      "text/plain": [
       "[array([[1, 2, 3, 4]]),\n",
       " array([[ 5,  6,  7,  8],\n",
       "        [ 9, 10, 11, 12]]),\n",
       " array([[13, 14, 15, 16]])]"
      ]
     },
     "execution_count": 69,
     "metadata": {},
     "output_type": "execute_result"
    }
   ],
   "source": [
    "np.vsplit(matrix1,[1,3])"
   ]
  }
 ],
 "metadata": {
  "kernelspec": {
   "display_name": "Python 3 (ipykernel)",
   "language": "python",
   "name": "python3"
  },
  "language_info": {
   "codemirror_mode": {
    "name": "ipython",
    "version": 3
   },
   "file_extension": ".py",
   "mimetype": "text/x-python",
   "name": "python",
   "nbconvert_exporter": "python",
   "pygments_lexer": "ipython3",
   "version": "3.11.4"
  }
 },
 "nbformat": 4,
 "nbformat_minor": 5
}

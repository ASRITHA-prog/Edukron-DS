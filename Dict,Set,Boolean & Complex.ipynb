{
 "cells": [
  {
   "cell_type": "code",
   "execution_count": 4,
   "id": "03899e61",
   "metadata": {},
   "outputs": [
    {
     "data": {
      "text/plain": [
       "'C:\\\\Users\\\\DERANGULA ASRITHA'"
      ]
     },
     "execution_count": 4,
     "metadata": {},
     "output_type": "execute_result"
    }
   ],
   "source": [
    "pwd"
   ]
  },
  {
   "cell_type": "code",
   "execution_count": 5,
   "id": "530f429e",
   "metadata": {},
   "outputs": [],
   "source": [
    "########   DICTIONARY #####"
   ]
  },
  {
   "cell_type": "code",
   "execution_count": 6,
   "id": "85e2ca7f",
   "metadata": {},
   "outputs": [
    {
     "name": "stdout",
     "output_type": "stream",
     "text": [
      "\n",
      "Question : Create a dictionary with class values: {'list': list, 'dict': dict, 'set': set}\n"
     ]
    },
    {
     "data": {
      "text/plain": [
       "{'list': list, 'dict': dict, 'set': set}"
      ]
     },
     "execution_count": 6,
     "metadata": {},
     "output_type": "execute_result"
    }
   ],
   "source": [
    "print(\"\\nQuestion : Create a dictionary with class values: {'list': list, 'dict': dict, 'set': set}\")\n",
    "dict={'list':list,'dict':dict,'set':set}\n",
    "dict"
   ]
  },
  {
   "cell_type": "code",
   "execution_count": 7,
   "id": "7eb3bb6d",
   "metadata": {},
   "outputs": [
    {
     "name": "stdout",
     "output_type": "stream",
     "text": [
      "\n",
      "Question : Create instances using class dictionary\n"
     ]
    }
   ],
   "source": [
    "print(\"\\nQuestion : Create instances using class dictionary\")"
   ]
  },
  {
   "cell_type": "code",
   "execution_count": 8,
   "id": "c2842a92",
   "metadata": {},
   "outputs": [
    {
     "name": "stdout",
     "output_type": "stream",
     "text": [
      "\n",
      "Question: Create a dictionary with None values: {'a': None, 'b': None, 'c': None}\n"
     ]
    },
    {
     "data": {
      "text/plain": [
       "{'a': None, 'b': None, 'c': None}"
      ]
     },
     "execution_count": 8,
     "metadata": {},
     "output_type": "execute_result"
    }
   ],
   "source": [
    "print(\"\\nQuestion: Create a dictionary with None values: {'a': None, 'b': None, 'c': None}\")\n",
    "d={'a':None,'b':None,'c':None}\n",
    "d"
   ]
  },
  {
   "cell_type": "code",
   "execution_count": 9,
   "id": "980b98a9",
   "metadata": {},
   "outputs": [
    {
     "name": "stdout",
     "output_type": "stream",
     "text": [
      "\n",
      "Question: Replace all None values with 0\n",
      "{'a': 0, 'b': 0, 'c': 0}\n"
     ]
    }
   ],
   "source": [
    "print(\"\\nQuestion: Replace all None values with 0\")\n",
    "d={'a':None,'b':None,'c':None}\n",
    "for i in d:\n",
    "    d[i]=0\n",
    "print(d)    "
   ]
  },
  {
   "cell_type": "code",
   "execution_count": 10,
   "id": "f53ea125",
   "metadata": {},
   "outputs": [
    {
     "name": "stdout",
     "output_type": "stream",
     "text": [
      "\n",
      "Question: Create a dictionary with boolean values: {'is_active': True, 'is_admin': False}\n"
     ]
    },
    {
     "data": {
      "text/plain": [
       "{'is_active': True, 'is_admin': False}"
      ]
     },
     "execution_count": 10,
     "metadata": {},
     "output_type": "execute_result"
    }
   ],
   "source": [
    "print(\"\\nQuestion: Create a dictionary with boolean values: {'is_active': True, 'is_admin': False}\")\n",
    "dt={'is_active':True,'is_admin':False}\n",
    "dt"
   ]
  },
  {
   "cell_type": "code",
   "execution_count": 11,
   "id": "a7c0476f",
   "metadata": {},
   "outputs": [
    {
     "name": "stdout",
     "output_type": "stream",
     "text": [
      "\n",
      "Question: Count True values in boolean dictionary\n",
      "1\n"
     ]
    }
   ],
   "source": [
    "print(\"\\nQuestion: Count True values in boolean dictionary\")\n",
    "dt={'is_active':True,'is_admin':False}\n",
    "c=0\n",
    "for i in dt:\n",
    "    if dt[i]==True:\n",
    "        c+=1\n",
    "print(c)        "
   ]
  },
  {
   "cell_type": "code",
   "execution_count": 12,
   "id": "ee76892e",
   "metadata": {},
   "outputs": [
    {
     "name": "stdout",
     "output_type": "stream",
     "text": [
      "\n",
      "Question: Create a dictionary with complex numbers: {'z1': 3+4j, 'z2': 1+2j}\n"
     ]
    },
    {
     "data": {
      "text/plain": [
       "{'z1': (3+4j), 'z2': (1+2j)}"
      ]
     },
     "execution_count": 12,
     "metadata": {},
     "output_type": "execute_result"
    }
   ],
   "source": [
    "print(\"\\nQuestion: Create a dictionary with complex numbers: {'z1': 3+4j, 'z2': 1+2j}\")\n",
    "d={'z1': 3+4j, 'z2': 1+2j}\n",
    "d"
   ]
  },
  {
   "cell_type": "code",
   "execution_count": 13,
   "id": "695d28e9",
   "metadata": {},
   "outputs": [
    {
     "name": "stdout",
     "output_type": "stream",
     "text": [
      "\n",
      "Question: Find magnitude of each complex number\n",
      "{'z1': 5.0, 'z2': 2.23606797749979}\n"
     ]
    }
   ],
   "source": [
    "print(\"\\nQuestion: Find magnitude of each complex number\")\n",
    "d={'z1': 3+4j, 'z2': 1+2j}\n",
    "for i in d:\n",
    "    d[i]=abs(d[i])\n",
    "print(d)    "
   ]
  },
  {
   "cell_type": "code",
   "execution_count": 14,
   "id": "a4e5e40c",
   "metadata": {},
   "outputs": [
    {
     "name": "stdout",
     "output_type": "stream",
     "text": [
      "\n",
      "Question: Create a 4-level nested dictionary\n"
     ]
    },
    {
     "data": {
      "text/plain": [
       "{'company': {'department': {'section': {'employee': {'name': 'rakesh',\n",
       "     'age': 22}}}}}"
      ]
     },
     "execution_count": 14,
     "metadata": {},
     "output_type": "execute_result"
    }
   ],
   "source": [
    "print(\"\\nQuestion: Create a 4-level nested dictionary\")\n",
    "d={'company':{'department':{'section':{ 'employee':{'name':\"rakesh\",'age':22}}}}}\n",
    "d"
   ]
  },
  {
   "cell_type": "code",
   "execution_count": 15,
   "id": "261ea864",
   "metadata": {},
   "outputs": [
    {
     "name": "stdout",
     "output_type": "stream",
     "text": [
      "\n",
      "Question: Access deepest value in 4-level nested dictionary\n"
     ]
    },
    {
     "data": {
      "text/plain": [
       "22"
      ]
     },
     "execution_count": 15,
     "metadata": {},
     "output_type": "execute_result"
    }
   ],
   "source": [
    "print(\"\\nQuestion: Access deepest value in 4-level nested dictionary\")\n",
    "d={'company':{'department':{'section':{ 'employee':{'name':\"rakesh\",'age':22}}}}}\n",
    "d['company']['department']['section']['employee']['age']"
   ]
  },
  {
   "cell_type": "code",
   "execution_count": 16,
   "id": "46ac2c07",
   "metadata": {},
   "outputs": [
    {
     "name": "stdout",
     "output_type": "stream",
     "text": [
      "\n",
      "Question: Create a dictionary with range values: {'r1': range(3), 'r2': range(5)}\n"
     ]
    },
    {
     "data": {
      "text/plain": [
       "{'r1': range(0, 3), 'r2': range(0, 5)}"
      ]
     },
     "execution_count": 16,
     "metadata": {},
     "output_type": "execute_result"
    }
   ],
   "source": [
    "print(\"\\nQuestion: Create a dictionary with range values: {'r1': range(3), 'r2': range(5)}\")\n",
    "r={'r1': range(3), 'r2': range(5)}\n",
    "r"
   ]
  },
  {
   "cell_type": "code",
   "execution_count": 17,
   "id": "6b043f1a",
   "metadata": {},
   "outputs": [
    {
     "name": "stdout",
     "output_type": "stream",
     "text": [
      "\n",
      "Question: Convert each range to list\n",
      "{'r1': [0, 1, 2], 'r2': [0, 1, 2, 3, 4]}\n"
     ]
    }
   ],
   "source": [
    "print(\"\\nQuestion: Convert each range to list\")\n",
    "r={'r1': range(3), 'r2': range(5)}\n",
    "for i in r:\n",
    "    r[i]=list(r[i])\n",
    "print(r)    "
   ]
  },
  {
   "cell_type": "code",
   "execution_count": 18,
   "id": "923cee21",
   "metadata": {},
   "outputs": [
    {
     "name": "stdout",
     "output_type": "stream",
     "text": [
      "\n",
      "Question : Create a dictionary with nested lists: {'matrix': [[1, 2], [3, 4]], 'vector': [5, 6, 7]}\n"
     ]
    },
    {
     "data": {
      "text/plain": [
       "{'matrix': [[1, 2], [3, 4]], 'vector': [5, 6, 7]}"
      ]
     },
     "execution_count": 18,
     "metadata": {},
     "output_type": "execute_result"
    }
   ],
   "source": [
    "print(\"\\nQuestion : Create a dictionary with nested lists: {'matrix': [[1, 2], [3, 4]], 'vector': [5, 6, 7]}\")\n",
    "d={'matrix':[[1,2],[3,4]],'vector':[5,6,7]}\n",
    "d"
   ]
  },
  {
   "cell_type": "code",
   "execution_count": 19,
   "id": "b4090e3f",
   "metadata": {},
   "outputs": [
    {
     "name": "stdout",
     "output_type": "stream",
     "text": [
      "\n",
      "Question: Find sum of each nested list\n",
      "{'matrix': [3, 7], 'vector': 18}\n"
     ]
    }
   ],
   "source": [
    "print(\"\\nQuestion: Find sum of each nested list\")\n",
    "e={'matrix':[[1,2],[3,4]],'vector':[5,6,7]}\n",
    "for key, value in d.items():\n",
    "    if isinstance(value[0], list):\n",
    "        e[key] = [sum(inner) for inner in value]\n",
    "    else:\n",
    "        e[key] = sum(value)\n",
    "print(e) "
   ]
  },
  {
   "cell_type": "code",
   "execution_count": 20,
   "id": "bc989488",
   "metadata": {},
   "outputs": [
    {
     "name": "stdout",
     "output_type": "stream",
     "text": [
      "\n",
      "Question: Create a dictionary with nested dictionaries: {'config': {'db': {'host': 'localhost', 'port': 5432}}}\n"
     ]
    },
    {
     "data": {
      "text/plain": [
       "{'config': {'db': {'host': 'localhost', 'port': 5432}}}"
      ]
     },
     "execution_count": 20,
     "metadata": {},
     "output_type": "execute_result"
    }
   ],
   "source": [
    "print(\"\\nQuestion: Create a dictionary with nested dictionaries: {'config': {'db': {'host': 'localhost', 'port': 5432}}}\")\n",
    "r={'config': {'db': {'host': 'localhost', 'port': 5432}}}\n",
    "r"
   ]
  },
  {
   "cell_type": "code",
   "execution_count": 21,
   "id": "1e786201",
   "metadata": {},
   "outputs": [
    {
     "name": "stdout",
     "output_type": "stream",
     "text": [
      "\n",
      "Question: Access database port from nested configuration\n"
     ]
    },
    {
     "data": {
      "text/plain": [
       "5432"
      ]
     },
     "execution_count": 21,
     "metadata": {},
     "output_type": "execute_result"
    }
   ],
   "source": [
    "print(\"\\nQuestion: Access database port from nested configuration\")\n",
    "r={'config': {'db': {'host': 'localhost', 'port': 5432}}}\n",
    "r['config']['db']['port']"
   ]
  },
  {
   "cell_type": "code",
   "execution_count": 22,
   "id": "04351b32",
   "metadata": {},
   "outputs": [
    {
     "name": "stdout",
     "output_type": "stream",
     "text": [
      "\n",
      "Question: Create a dictionary with nested tuples: {'points': ((1, 2), (3, 4)), 'rgb': ((255, 0, 0), (0, 255, 0))}\n"
     ]
    },
    {
     "data": {
      "text/plain": [
       "{'points': ((1, 2), (3, 4)), 'rgb': ((255, 0, 0), (0, 255, 0))}"
      ]
     },
     "execution_count": 22,
     "metadata": {},
     "output_type": "execute_result"
    }
   ],
   "source": [
    "print(\"\\nQuestion: Create a dictionary with nested tuples: {'points': ((1, 2), (3, 4)), 'rgb': ((255, 0, 0), (0, 255, 0))}\")\n",
    "nt={'points': ((1, 2), (3, 4)), 'rgb': ((255, 0, 0), (0, 255, 0))}\n",
    "nt"
   ]
  },
  {
   "cell_type": "code",
   "execution_count": 23,
   "id": "e8af83da",
   "metadata": {},
   "outputs": [
    {
     "name": "stdout",
     "output_type": "stream",
     "text": [
      "\n",
      "Question: Extract first point coordinates\n"
     ]
    },
    {
     "data": {
      "text/plain": [
       "(1, 2)"
      ]
     },
     "execution_count": 23,
     "metadata": {},
     "output_type": "execute_result"
    }
   ],
   "source": [
    "print(\"\\nQuestion: Extract first point coordinates\")\n",
    "nt={'points': ((1, 2), (3, 4)), 'rgb': ((255, 0, 0), (0, 255, 0))}\n",
    "nt['points'][0]"
   ]
  },
  {
   "cell_type": "code",
   "execution_count": 24,
   "id": "f9626337",
   "metadata": {},
   "outputs": [
    {
     "name": "stdout",
     "output_type": "stream",
     "text": [
      "\n",
      "Question: Create a dictionary with nested sets: {'groups': {{1, 2, 3}, {4, 5, 6}}, 'categories': {{'a', 'b'}, {'c', 'd'}}}\n"
     ]
    },
    {
     "data": {
      "text/plain": [
       "{'groups': [{1, 2, 3}, {4, 5, 6}], 'categories': [{'a', 'b'}, {'c', 'd'}]}"
      ]
     },
     "execution_count": 24,
     "metadata": {},
     "output_type": "execute_result"
    }
   ],
   "source": [
    "print(\"\\nQuestion: Create a dictionary with nested sets: {'groups': {{1, 2, 3}, {4, 5, 6}}, 'categories': {{'a', 'b'}, {'c', 'd'}}}\")\n",
    "s={'groups': [{1, 2, 3}, {4, 5, 6}],'categories': [{'a', 'b'}, {'c', 'd'}]}\n",
    "s"
   ]
  },
  {
   "cell_type": "code",
   "execution_count": 25,
   "id": "74987d49",
   "metadata": {},
   "outputs": [
    {
     "name": "stdout",
     "output_type": "stream",
     "text": [
      "\n",
      "Question : Find union of all nested sets\n",
      "{'groups': {1, 2, 3, 4, 5, 6}, 'categories': {1, 2, 3, 4, 5, 6, 'b', 'c', 'd', 'a'}}\n"
     ]
    }
   ],
   "source": [
    "print(\"\\nQuestion : Find union of all nested sets\")\n",
    "x = {'groups': [{1, 2, 3}, {4, 5, 6}], 'categories': [{'a', 'b'}, {'c', 'd'}]}\n",
    "result = {}\n",
    "union_set = set()\n",
    "for key, value in x.items():\n",
    "    for s in value:\n",
    "        union_set = union_set.union(s)\n",
    "    result[key] = union_set\n",
    "print(result)"
   ]
  },
  {
   "cell_type": "code",
   "execution_count": 26,
   "id": "50fc3213",
   "metadata": {},
   "outputs": [],
   "source": [
    "### SET  ###"
   ]
  },
  {
   "cell_type": "code",
   "execution_count": 27,
   "id": "771fe497",
   "metadata": {},
   "outputs": [
    {
     "name": "stdout",
     "output_type": "stream",
     "text": [
      "SOLVED EXAMPLE:\n",
      "Find the union of two sets\n",
      "Set 1: {1, 2, 3, 4, 5}\n",
      "Set 2: {4, 5, 6, 7, 8}\n",
      "Union: {1, 2, 3, 4, 5, 6, 7, 8}\n",
      "--------------------------------------------------\n"
     ]
    }
   ],
   "source": [
    "print(\"SOLVED EXAMPLE:\")\n",
    "print(\"Find the union of two sets\")\n",
    "set1 = {1, 2, 3, 4, 5}\n",
    "set2 = {4, 5, 6, 7, 8}\n",
    "union_set = set1.union(set2)\n",
    "print(f\"Set 1: {set1}\")\n",
    "print(f\"Set 2: {set2}\")\n",
    "print(f\"Union: {union_set}\")\n",
    "print(\"-\" * 50)"
   ]
  },
  {
   "cell_type": "code",
   "execution_count": 28,
   "id": "eafbfe1d",
   "metadata": {},
   "outputs": [
    {
     "name": "stdout",
     "output_type": "stream",
     "text": [
      "Question: Create a set of first 10 natural numbers\n",
      "10\n",
      "{1, 2, 3, 4, 5, 6, 7, 8, 9, 10}\n"
     ]
    }
   ],
   "source": [
    "print(\"Question: Create a set of first 10 natural numbers\")\n",
    "n=int(input())\n",
    "d=set()\n",
    "for i in range(1,n+1):  \n",
    "    d.add(i) \n",
    "print(d)    "
   ]
  },
  {
   "cell_type": "code",
   "execution_count": 29,
   "id": "c14b07fb",
   "metadata": {},
   "outputs": [
    {
     "name": "stdout",
     "output_type": "stream",
     "text": [
      "\n",
      "Question: Add element 11 to set {1, 2, 3, 4, 5}\n"
     ]
    },
    {
     "data": {
      "text/plain": [
       "{1, 2, 3, 4, 5, 11}"
      ]
     },
     "execution_count": 29,
     "metadata": {},
     "output_type": "execute_result"
    }
   ],
   "source": [
    "print(\"\\nQuestion: Add element 11 to set {1, 2, 3, 4, 5}\")\n",
    "s={1,2,3,4,5}\n",
    "s.add(11)\n",
    "s"
   ]
  },
  {
   "cell_type": "code",
   "execution_count": 30,
   "id": "bd0aea50",
   "metadata": {},
   "outputs": [
    {
     "name": "stdout",
     "output_type": "stream",
     "text": [
      "\n",
      "Question: Remove element 3 from set {1, 2, 3, 4, 5, 6}\n"
     ]
    },
    {
     "data": {
      "text/plain": [
       "{1, 2, 4, 5, 6}"
      ]
     },
     "execution_count": 30,
     "metadata": {},
     "output_type": "execute_result"
    }
   ],
   "source": [
    "print(\"\\nQuestion: Remove element 3 from set {1, 2, 3, 4, 5, 6}\")\n",
    "s={1,2,3,4,5,6}\n",
    "s.remove(3)\n",
    "s"
   ]
  },
  {
   "cell_type": "code",
   "execution_count": 31,
   "id": "bce997c5",
   "metadata": {},
   "outputs": [
    {
     "name": "stdout",
     "output_type": "stream",
     "text": [
      "\n",
      "Question: Find the intersection of {1, 2, 3, 4, 5} and {4, 5, 6, 7, 8}\n"
     ]
    },
    {
     "data": {
      "text/plain": [
       "{4, 5}"
      ]
     },
     "execution_count": 31,
     "metadata": {},
     "output_type": "execute_result"
    }
   ],
   "source": [
    "print(\"\\nQuestion: Find the intersection of {1, 2, 3, 4, 5} and {4, 5, 6, 7, 8}\")\n",
    "a={1,2,3,4,5}\n",
    "b={4,5,6,7,8}\n",
    "a.intersection(b)"
   ]
  },
  {
   "cell_type": "code",
   "execution_count": 32,
   "id": "b7f463c0",
   "metadata": {},
   "outputs": [
    {
     "name": "stdout",
     "output_type": "stream",
     "text": [
      "\n",
      "Question : Find the difference between {1, 2, 3, 4, 5} and {4, 5, 6, 7, 8}\n"
     ]
    },
    {
     "data": {
      "text/plain": [
       "{1, 2, 3}"
      ]
     },
     "execution_count": 32,
     "metadata": {},
     "output_type": "execute_result"
    }
   ],
   "source": [
    "print(\"\\nQuestion : Find the difference between {1, 2, 3, 4, 5} and {4, 5, 6, 7, 8}\")\n",
    "x={1,2,3,4,5}\n",
    "y={4,5,6,7,8}\n",
    "x.difference(y)"
   ]
  },
  {
   "cell_type": "code",
   "execution_count": 33,
   "id": "30af6c98",
   "metadata": {},
   "outputs": [
    {
     "name": "stdout",
     "output_type": "stream",
     "text": [
      "\n",
      "Question : Check if 5 is in set {1, 2, 3, 4, 6, 7, 8}\n"
     ]
    },
    {
     "data": {
      "text/plain": [
       "False"
      ]
     },
     "execution_count": 33,
     "metadata": {},
     "output_type": "execute_result"
    }
   ],
   "source": [
    "print(\"\\nQuestion : Check if 5 is in set {1, 2, 3, 4, 6, 7, 8}\")\n",
    "5 in {1,2,3,4,6,7,8}"
   ]
  },
  {
   "cell_type": "code",
   "execution_count": 34,
   "id": "3c1abf9c",
   "metadata": {},
   "outputs": [
    {
     "name": "stdout",
     "output_type": "stream",
     "text": [
      "\n",
      "Question : Find the length of set {'a', 'b', 'c', 'd', 'e'}\n"
     ]
    },
    {
     "data": {
      "text/plain": [
       "5"
      ]
     },
     "execution_count": 34,
     "metadata": {},
     "output_type": "execute_result"
    }
   ],
   "source": [
    "print(\"\\nQuestion : Find the length of set {'a', 'b', 'c', 'd', 'e'}\")\n",
    "z={'a','b','c','d','e'}\n",
    "len(z)"
   ]
  },
  {
   "cell_type": "code",
   "execution_count": 35,
   "id": "211efc92",
   "metadata": {},
   "outputs": [
    {
     "name": "stdout",
     "output_type": "stream",
     "text": [
      "\n",
      "Question : Create a set of vowels from string 'hello world'\n",
      "{'e', 'o'}\n"
     ]
    }
   ],
   "source": [
    "print(\"\\nQuestion : Create a set of vowels from string 'hello world'\")\n",
    "s=\"hello world\"\n",
    "t=set()\n",
    "for i in s:\n",
    "    if i in \"aeiou\":\n",
    "        t.add(i)\n",
    "print(t)        "
   ]
  },
  {
   "cell_type": "code",
   "execution_count": 36,
   "id": "aa7e4d48",
   "metadata": {},
   "outputs": [
    {
     "name": "stdout",
     "output_type": "stream",
     "text": [
      "\n",
      "Question: Remove duplicates from list [1, 2, 2, 3, 4, 4, 5, 6, 6, 7] using set\n"
     ]
    },
    {
     "data": {
      "text/plain": [
       "{1, 2, 3, 4, 5, 6, 7}"
      ]
     },
     "execution_count": 36,
     "metadata": {},
     "output_type": "execute_result"
    }
   ],
   "source": [
    "print(\"\\nQuestion: Remove duplicates from list [1, 2, 2, 3, 4, 4, 5, 6, 6, 7] using set\")\n",
    "lst=[1, 2, 2, 3, 4, 4, 5, 6, 6, 7]\n",
    "x=set(lst)\n",
    "x"
   ]
  },
  {
   "cell_type": "code",
   "execution_count": 37,
   "id": "90294946",
   "metadata": {},
   "outputs": [
    {
     "name": "stdout",
     "output_type": "stream",
     "text": [
      "\n",
      "Question : Check if {1, 2, 3} is a subset of {1, 2, 3, 4, 5, 6}\n"
     ]
    },
    {
     "data": {
      "text/plain": [
       "True"
      ]
     },
     "execution_count": 37,
     "metadata": {},
     "output_type": "execute_result"
    }
   ],
   "source": [
    "print(\"\\nQuestion : Check if {1, 2, 3} is a subset of {1, 2, 3, 4, 5, 6}\")\n",
    "a={1,2,3}\n",
    "b={1,2,3,4,5,6}\n",
    "a.issubset(b)"
   ]
  },
  {
   "cell_type": "code",
   "execution_count": 38,
   "id": "e9595577",
   "metadata": {},
   "outputs": [],
   "source": [
    "#### BOOLEAN  ###"
   ]
  },
  {
   "cell_type": "code",
   "execution_count": 39,
   "id": "2abea67b",
   "metadata": {},
   "outputs": [
    {
     "name": "stdout",
     "output_type": "stream",
     "text": [
      "SOLVED EXAMPLE:\n",
      "Check if a number is both even and greater than 10\n",
      "Number: 16\n",
      "Is even: True\n",
      "Is greater than 10: True\n",
      "Both conditions: True\n",
      "--------------------------------------------------\n"
     ]
    }
   ],
   "source": [
    "print(\"SOLVED EXAMPLE:\")\n",
    "print(\"Check if a number is both even and greater than 10\")\n",
    "number = 16\n",
    "is_even = number % 2 == 0\n",
    "is_greater_than_10 = number > 10\n",
    "result = is_even and is_greater_than_10\n",
    "print(f\"Number: {number}\")\n",
    "print(f\"Is even: {is_even}\")\n",
    "print(f\"Is greater than 10: {is_greater_than_10}\")\n",
    "print(f\"Both conditions: {result}\")\n",
    "print(\"-\" * 50)"
   ]
  },
  {
   "cell_type": "code",
   "execution_count": 40,
   "id": "5200a0d8",
   "metadata": {},
   "outputs": [
    {
     "name": "stdout",
     "output_type": "stream",
     "text": [
      "Question: Check if 25 is greater than 20 and less than 30\n",
      "True\n"
     ]
    }
   ],
   "source": [
    "print(\"Question: Check if 25 is greater than 20 and less than 30\")\n",
    "print(25>20 and 25<30)"
   ]
  },
  {
   "cell_type": "code",
   "execution_count": 41,
   "id": "34103df2",
   "metadata": {},
   "outputs": [
    {
     "name": "stdout",
     "output_type": "stream",
     "text": [
      "\n",
      "Question : Check if string 'python' is equal to 'Python' (case sensitive)\n",
      "False\n"
     ]
    }
   ],
   "source": [
    "print(\"\\nQuestion : Check if string 'python' is equal to 'Python' (case sensitive)\")\n",
    "print(\"python\"==\"Python\")"
   ]
  },
  {
   "cell_type": "code",
   "execution_count": 42,
   "id": "75edf0c1",
   "metadata": {},
   "outputs": [
    {
     "name": "stdout",
     "output_type": "stream",
     "text": [
      "\n",
      "Question: Check if 15 is divisible by both 3 and 5\n",
      "Yes\n"
     ]
    }
   ],
   "source": [
    "print(\"\\nQuestion: Check if 15 is divisible by both 3 and 5\")\n",
    "if 15/3 and 15/5:\n",
    "    print(\"Yes\")\n",
    "else:\n",
    "    print(\"False\")    "
   ]
  },
  {
   "cell_type": "code",
   "execution_count": 43,
   "id": "02148595",
   "metadata": {},
   "outputs": [
    {
     "name": "stdout",
     "output_type": "stream",
     "text": [
      "\n",
      "Question: Check if 7 is not equal to 8\n",
      "True\n"
     ]
    }
   ],
   "source": [
    "print(\"\\nQuestion: Check if 7 is not equal to 8\")\n",
    "print(7!=8)"
   ]
  },
  {
   "cell_type": "code",
   "execution_count": 44,
   "id": "a710b34d",
   "metadata": {},
   "outputs": [
    {
     "name": "stdout",
     "output_type": "stream",
     "text": [
      "\n",
      "Question: Check if 100 is greater than 50 or less than 25\n",
      "True\n"
     ]
    }
   ],
   "source": [
    "print(\"\\nQuestion: Check if 100 is greater than 50 or less than 25\")\n",
    "print(100>50 or 100<25)"
   ]
  },
  {
   "cell_type": "code",
   "execution_count": 45,
   "id": "19910a75",
   "metadata": {},
   "outputs": [
    {
     "name": "stdout",
     "output_type": "stream",
     "text": [
      "\n",
      "Question : Check if 0 is falsy in Python\n"
     ]
    },
    {
     "data": {
      "text/plain": [
       "True"
      ]
     },
     "execution_count": 45,
     "metadata": {},
     "output_type": "execute_result"
    }
   ],
   "source": [
    "print(\"\\nQuestion : Check if 0 is falsy in Python\")\n",
    "0 in[False]"
   ]
  },
  {
   "cell_type": "code",
   "execution_count": 46,
   "id": "295d2a6b",
   "metadata": {},
   "outputs": [
    {
     "name": "stdout",
     "output_type": "stream",
     "text": [
      "\n",
      "Question: Check if empty string '' is falsy in Python\n"
     ]
    },
    {
     "data": {
      "text/plain": [
       "False"
      ]
     },
     "execution_count": 46,
     "metadata": {},
     "output_type": "execute_result"
    }
   ],
   "source": [
    "print(\"\\nQuestion: Check if empty string '' is falsy in Python\")\n",
    "' ' in [False]"
   ]
  },
  {
   "cell_type": "code",
   "execution_count": 47,
   "id": "466c76a2",
   "metadata": {},
   "outputs": [
    {
     "name": "stdout",
     "output_type": "stream",
     "text": [
      "\n",
      "Question: Check if 42 is truthy in Python\n",
      "42\n"
     ]
    },
    {
     "data": {
      "text/plain": [
       "True"
      ]
     },
     "execution_count": 47,
     "metadata": {},
     "output_type": "execute_result"
    }
   ],
   "source": [
    "print(\"\\nQuestion: Check if 42 is truthy in Python\")\n",
    "n=int(input())\n",
    "42 in [n]"
   ]
  },
  {
   "cell_type": "code",
   "execution_count": 48,
   "id": "5e8c97a5",
   "metadata": {},
   "outputs": [
    {
     "name": "stdout",
     "output_type": "stream",
     "text": [
      "\n",
      "Question : Check if 10 is between 5 and 15 (inclusive)\n",
      "True\n"
     ]
    }
   ],
   "source": [
    "print(\"\\nQuestion : Check if 10 is between 5 and 15 (inclusive)\")\n",
    "print(5<=10<=15)"
   ]
  },
  {
   "cell_type": "code",
   "execution_count": 49,
   "id": "a6ba181b",
   "metadata": {},
   "outputs": [
    {
     "name": "stdout",
     "output_type": "stream",
     "text": [
      "\n",
      "Question: Check if 3.14 is greater than 3 and less than 4\n",
      "True\n"
     ]
    }
   ],
   "source": [
    "print(\"\\nQuestion: Check if 3.14 is greater than 3 and less than 4\")\n",
    "print(3<3.14<4)"
   ]
  },
  {
   "cell_type": "code",
   "execution_count": 50,
   "id": "0744fd7e",
   "metadata": {},
   "outputs": [],
   "source": [
    "###  NONE  ###"
   ]
  },
  {
   "cell_type": "code",
   "execution_count": 51,
   "id": "c8f90dcd",
   "metadata": {},
   "outputs": [
    {
     "name": "stdout",
     "output_type": "stream",
     "text": [
      "SOLVED EXAMPLE:\n",
      "Check if a variable is None\n",
      "Variable: None\n",
      "Is None: True\n",
      "--------------------------------------------------\n"
     ]
    }
   ],
   "source": [
    "print(\"SOLVED EXAMPLE:\")\n",
    "print(\"Check if a variable is None\")\n",
    "variable = None\n",
    "is_none = variable is None\n",
    "print(f\"Variable: {variable}\")\n",
    "print(f\"Is None: {is_none}\")\n",
    "print(\"-\" * 50)"
   ]
  },
  {
   "cell_type": "code",
   "execution_count": 52,
   "id": "ddbc591a",
   "metadata": {},
   "outputs": [
    {
     "name": "stdout",
     "output_type": "stream",
     "text": [
      "Question 1: Create a variable and assign None to it\n"
     ]
    },
    {
     "data": {
      "text/plain": [
       "'None'"
      ]
     },
     "execution_count": 52,
     "metadata": {},
     "output_type": "execute_result"
    }
   ],
   "source": [
    "print(\"Question 1: Create a variable and assign None to it\")\n",
    "VAR='None'\n",
    "VAR"
   ]
  },
  {
   "cell_type": "code",
   "execution_count": 53,
   "id": "df0507c6",
   "metadata": {},
   "outputs": [
    {
     "name": "stdout",
     "output_type": "stream",
     "text": [
      "\n",
      "Question 2: Check if None equals None\n",
      "True\n"
     ]
    }
   ],
   "source": [
    "print(\"\\nQuestion 2: Check if None equals None\")\n",
    "print(None==None)"
   ]
  },
  {
   "cell_type": "code",
   "execution_count": 54,
   "id": "87d04fc1",
   "metadata": {},
   "outputs": [
    {
     "name": "stdout",
     "output_type": "stream",
     "text": [
      "\n",
      "Question: Check if None is None\n",
      "True\n"
     ]
    }
   ],
   "source": [
    "print(\"\\nQuestion: Check if None is None\")\n",
    "print(None is None)"
   ]
  },
  {
   "cell_type": "code",
   "execution_count": 57,
   "id": "dbb13106",
   "metadata": {},
   "outputs": [
    {
     "name": "stdout",
     "output_type": "stream",
     "text": [
      "\n",
      "Question: Check if False is None\n"
     ]
    },
    {
     "data": {
      "text/plain": [
       "False"
      ]
     },
     "execution_count": 57,
     "metadata": {},
     "output_type": "execute_result"
    }
   ],
   "source": [
    "print(\"\\nQuestion: Check if False is None\")\n",
    "False is None"
   ]
  },
  {
   "cell_type": "code",
   "execution_count": 58,
   "id": "78a578fa",
   "metadata": {},
   "outputs": [
    {
     "name": "stdout",
     "output_type": "stream",
     "text": [
      "\n",
      "Question: Check if empty list is None\n"
     ]
    },
    {
     "data": {
      "text/plain": [
       "False"
      ]
     },
     "execution_count": 58,
     "metadata": {},
     "output_type": "execute_result"
    }
   ],
   "source": [
    "print(\"\\nQuestion: Check if empty list is None\")\n",
    "[] is None"
   ]
  },
  {
   "cell_type": "code",
   "execution_count": 59,
   "id": "b5336489",
   "metadata": {},
   "outputs": [
    {
     "name": "stdout",
     "output_type": "stream",
     "text": [
      "\n",
      "Question: Check if empty dictionary is None\n"
     ]
    },
    {
     "data": {
      "text/plain": [
       "False"
      ]
     },
     "execution_count": 59,
     "metadata": {},
     "output_type": "execute_result"
    }
   ],
   "source": [
    "print(\"\\nQuestion: Check if empty dictionary is None\")\n",
    "{} is None"
   ]
  },
  {
   "cell_type": "code",
   "execution_count": 60,
   "id": "5e657496",
   "metadata": {},
   "outputs": [
    {
     "name": "stdout",
     "output_type": "stream",
     "text": [
      "\n",
      "Question : Check if empty set is None\n"
     ]
    },
    {
     "data": {
      "text/plain": [
       "False"
      ]
     },
     "execution_count": 60,
     "metadata": {},
     "output_type": "execute_result"
    }
   ],
   "source": [
    "print(\"\\nQuestion : Check if empty set is None\")\n",
    "{} is None"
   ]
  },
  {
   "cell_type": "code",
   "execution_count": 61,
   "id": "6fc1135b",
   "metadata": {},
   "outputs": [],
   "source": [
    "### COMPLEX  ###"
   ]
  },
  {
   "cell_type": "code",
   "execution_count": 62,
   "id": "439635f4",
   "metadata": {},
   "outputs": [
    {
     "name": "stdout",
     "output_type": "stream",
     "text": [
      "SOLVED EXAMPLE:\n",
      "Create a complex number and find its conjugate\n",
      "Complex number: (3+4j)\n",
      "Conjugate: (3-4j)\n",
      "Magnitude: 5.0\n",
      "--------------------------------------------------\n"
     ]
    }
   ],
   "source": [
    "print(\"SOLVED EXAMPLE:\")\n",
    "print(\"Create a complex number and find its conjugate\")\n",
    "z = 3 + 4j\n",
    "conjugate = z.conjugate()\n",
    "magnitude = abs(z)\n",
    "print(f\"Complex number: {z}\")\n",
    "print(f\"Conjugate: {conjugate}\")\n",
    "print(f\"Magnitude: {magnitude}\")\n",
    "print(\"-\" * 50)"
   ]
  },
  {
   "cell_type": "code",
   "execution_count": 63,
   "id": "b0ab1678",
   "metadata": {},
   "outputs": [
    {
     "name": "stdout",
     "output_type": "stream",
     "text": [
      "Question: Create complex number 5 + 3j\n"
     ]
    },
    {
     "data": {
      "text/plain": [
       "(5+3j)"
      ]
     },
     "execution_count": 63,
     "metadata": {},
     "output_type": "execute_result"
    }
   ],
   "source": [
    "print(\"Question: Create complex number 5 + 3j\")\n",
    "X=5+3j\n",
    "X"
   ]
  },
  {
   "cell_type": "code",
   "execution_count": 64,
   "id": "4e80281c",
   "metadata": {},
   "outputs": [
    {
     "name": "stdout",
     "output_type": "stream",
     "text": [
      "\n",
      "Question: Find the real part of complex number 7 - 2j\n"
     ]
    },
    {
     "data": {
      "text/plain": [
       "7.0"
      ]
     },
     "execution_count": 64,
     "metadata": {},
     "output_type": "execute_result"
    }
   ],
   "source": [
    "print(\"\\nQuestion: Find the real part of complex number 7 - 2j\")\n",
    "c=7-2j\n",
    "c.real"
   ]
  },
  {
   "cell_type": "code",
   "execution_count": 65,
   "id": "9187cbff",
   "metadata": {},
   "outputs": [
    {
     "name": "stdout",
     "output_type": "stream",
     "text": [
      "\n",
      "Question : Find the imaginary part of complex number 4 + 6j\n"
     ]
    },
    {
     "data": {
      "text/plain": [
       "6.0"
      ]
     },
     "execution_count": 65,
     "metadata": {},
     "output_type": "execute_result"
    }
   ],
   "source": [
    "print(\"\\nQuestion : Find the imaginary part of complex number 4 + 6j\")\n",
    "x=4+6j\n",
    "x.imag"
   ]
  },
  {
   "cell_type": "code",
   "execution_count": 66,
   "id": "3cf38512",
   "metadata": {},
   "outputs": [
    {
     "name": "stdout",
     "output_type": "stream",
     "text": [
      "\n",
      "Question: Add two complex numbers: (3 + 2j) and (1 + 4j)\n",
      "(4+5j)\n"
     ]
    }
   ],
   "source": [
    "print(\"\\nQuestion: Add two complex numbers: (3 + 2j) and (1 + 4j)\")\n",
    "x=3+2j\n",
    "y=1+3j\n",
    "print(x+y)"
   ]
  },
  {
   "cell_type": "code",
   "execution_count": 67,
   "id": "185c9839",
   "metadata": {},
   "outputs": [
    {
     "name": "stdout",
     "output_type": "stream",
     "text": [
      "\n",
      "Question: Multiply two complex numbers: (2 + 3j) and (1 + 2j)\n",
      "(-4+7j)\n"
     ]
    }
   ],
   "source": [
    "print(\"\\nQuestion: Multiply two complex numbers: (2 + 3j) and (1 + 2j)\")\n",
    "x=(2+3j)\n",
    "y=(1+2j)\n",
    "print(x*y)"
   ]
  },
  {
   "cell_type": "code",
   "execution_count": 68,
   "id": "44059ac1",
   "metadata": {},
   "outputs": [
    {
     "name": "stdout",
     "output_type": "stream",
     "text": [
      "\n",
      "Question : Find the magnitude of complex number 6 + 8j\n",
      "10.0\n"
     ]
    }
   ],
   "source": [
    "print(\"\\nQuestion : Find the magnitude of complex number 6 + 8j\")\n",
    "import math\n",
    "x=6+8j\n",
    "magnitude=abs(x)\n",
    "print(magnitude)"
   ]
  },
  {
   "cell_type": "code",
   "execution_count": 69,
   "id": "808f683c",
   "metadata": {
    "scrolled": true
   },
   "outputs": [
    {
     "name": "stdout",
     "output_type": "stream",
     "text": [
      "\n",
      "Question: Subtract complex numbers: (10 + 5j) - (3 + 2j)\n",
      "(7+3j)\n"
     ]
    }
   ],
   "source": [
    "print(\"\\nQuestion: Subtract complex numbers: (10 + 5j) - (3 + 2j)\")\n",
    "print((10 + 5j) - (3 + 2j))"
   ]
  },
  {
   "cell_type": "code",
   "execution_count": 70,
   "id": "52248892",
   "metadata": {},
   "outputs": [
    {
     "name": "stdout",
     "output_type": "stream",
     "text": [
      "\n",
      "Question: Divide complex numbers: (8 + 6j) / (2 + 1j)\n",
      "(4.4+0.8j)\n"
     ]
    }
   ],
   "source": [
    "print(\"\\nQuestion: Divide complex numbers: (8 + 6j) / (2 + 1j)\")\n",
    "print((8 + 6j) / (2 + 1j))"
   ]
  },
  {
   "cell_type": "code",
   "execution_count": 71,
   "id": "d531ba4d",
   "metadata": {},
   "outputs": [
    {
     "name": "stdout",
     "output_type": "stream",
     "text": [
      "\n",
      "Question: Find the phase angle of complex number 1 + 1j\n"
     ]
    },
    {
     "data": {
      "text/plain": [
       "0.7853981633974483"
      ]
     },
     "execution_count": 71,
     "metadata": {},
     "output_type": "execute_result"
    }
   ],
   "source": [
    "print(\"\\nQuestion: Find the phase angle of complex number 1 + 1j\") \n",
    "import cmath\n",
    "x=1+1j\n",
    "y=cmath.phase(x)\n",
    "y"
   ]
  }
 ],
 "metadata": {
  "kernelspec": {
   "display_name": "Python 3 (ipykernel)",
   "language": "python",
   "name": "python3"
  },
  "language_info": {
   "codemirror_mode": {
    "name": "ipython",
    "version": 3
   },
   "file_extension": ".py",
   "mimetype": "text/x-python",
   "name": "python",
   "nbconvert_exporter": "python",
   "pygments_lexer": "ipython3",
   "version": "3.11.4"
  }
 },
 "nbformat": 4,
 "nbformat_minor": 5
}

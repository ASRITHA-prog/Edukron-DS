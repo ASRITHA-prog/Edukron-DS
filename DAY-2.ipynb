{
 "cells": [
  {
   "cell_type": "code",
   "execution_count": 1,
   "id": "1765552a",
   "metadata": {},
   "outputs": [
    {
     "data": {
      "text/plain": [
       "'C:\\\\Users\\\\DERANGULA ASRITHA'"
      ]
     },
     "execution_count": 1,
     "metadata": {},
     "output_type": "execute_result"
    }
   ],
   "source": [
    "pwd"
   ]
  },
  {
   "cell_type": "code",
   "execution_count": 2,
   "id": "4dafaa96",
   "metadata": {},
   "outputs": [
    {
     "data": {
      "text/plain": [
       "2"
      ]
     },
     "execution_count": 2,
     "metadata": {},
     "output_type": "execute_result"
    }
   ],
   "source": [
    "x=\"machine learning\"\n",
    "x.count('a')"
   ]
  },
  {
   "cell_type": "code",
   "execution_count": 3,
   "id": "9cc72787",
   "metadata": {},
   "outputs": [
    {
     "data": {
      "text/plain": [
       "'Machine learning'"
      ]
     },
     "execution_count": 3,
     "metadata": {},
     "output_type": "execute_result"
    }
   ],
   "source": [
    "x=\"data science\"\n",
    "x.replace(\"data science\",\"Machine learning\")"
   ]
  },
  {
   "cell_type": "code",
   "execution_count": 4,
   "id": "ce2c9d81",
   "metadata": {},
   "outputs": [
    {
     "data": {
      "text/plain": [
       "1"
      ]
     },
     "execution_count": 4,
     "metadata": {},
     "output_type": "execute_result"
    }
   ],
   "source": [
    "x=\"data science\"\n",
    "x.index(\"a\")"
   ]
  },
  {
   "cell_type": "code",
   "execution_count": 5,
   "id": "614c3ce6",
   "metadata": {},
   "outputs": [
    {
     "data": {
      "text/plain": [
       "'data '"
      ]
     },
     "execution_count": 5,
     "metadata": {},
     "output_type": "execute_result"
    }
   ],
   "source": [
    "x=\"data science\"\n",
    "x[0:5]"
   ]
  },
  {
   "cell_type": "code",
   "execution_count": 6,
   "id": "a981f71c",
   "metadata": {},
   "outputs": [
    {
     "name": "stdout",
     "output_type": "stream",
     "text": [
      "dat\n",
      "a science\n",
      "cie\n",
      "nce\n",
      "data science\n"
     ]
    }
   ],
   "source": [
    "x=\"data science\"\n",
    "print(x[:3])\n",
    "print(x[3:])\n",
    "print(x[-6:-3])\n",
    "print(x[-3:])\n",
    "print(x[:])"
   ]
  },
  {
   "cell_type": "code",
   "execution_count": 7,
   "id": "2134b6c1",
   "metadata": {},
   "outputs": [
    {
     "data": {
      "text/plain": [
       "'DA'"
      ]
     },
     "execution_count": 7,
     "metadata": {},
     "output_type": "execute_result"
    }
   ],
   "source": [
    "x=\"data science\"\n",
    "x[0:2].upper()"
   ]
  },
  {
   "cell_type": "code",
   "execution_count": 8,
   "id": "a091f6af",
   "metadata": {},
   "outputs": [
    {
     "data": {
      "text/plain": [
       "'scienCE'"
      ]
     },
     "execution_count": 8,
     "metadata": {},
     "output_type": "execute_result"
    }
   ],
   "source": [
    "x=\"data SCIENce\"\n",
    "x[5:].swapcase()"
   ]
  },
  {
   "cell_type": "code",
   "execution_count": 9,
   "id": "8ba4a0bb",
   "metadata": {},
   "outputs": [
    {
     "data": {
      "text/plain": [
       "'scienCE'"
      ]
     },
     "execution_count": 9,
     "metadata": {},
     "output_type": "execute_result"
    }
   ],
   "source": [
    "x=\"data SCIENce\"\n",
    "x.split()[1].swapcase()"
   ]
  },
  {
   "cell_type": "code",
   "execution_count": 10,
   "id": "19cdafca",
   "metadata": {},
   "outputs": [
    {
     "data": {
      "text/plain": [
       "'scienCE'"
      ]
     },
     "execution_count": 10,
     "metadata": {},
     "output_type": "execute_result"
    }
   ],
   "source": [
    "x=\"data SCIENce\"\n",
    "x[-7:].swapcase()"
   ]
  },
  {
   "cell_type": "code",
   "execution_count": 11,
   "id": "bde479f9",
   "metadata": {},
   "outputs": [
    {
     "data": {
      "text/plain": [
       "'data                                                                                                science'"
      ]
     },
     "execution_count": 11,
     "metadata": {},
     "output_type": "execute_result"
    }
   ],
   "source": [
    "x=\"data \\tscience\"\n",
    "x.expandtabs(100)"
   ]
  },
  {
   "cell_type": "code",
   "execution_count": 12,
   "id": "a17073ad",
   "metadata": {},
   "outputs": [
    {
     "name": "stdout",
     "output_type": "stream",
     "text": [
      "1\n",
      "6\n",
      "-1\n",
      "-1\n"
     ]
    }
   ],
   "source": [
    "x=\"machine learning\"\n",
    "print(x.find(\"a\"))\n",
    "print(x.find(\"e\",3))\n",
    "print(x.find(\"i\",7,9))\n",
    "print(x.find(\"abc\",3,9))"
   ]
  },
  {
   "cell_type": "code",
   "execution_count": 13,
   "id": "f07a141e",
   "metadata": {},
   "outputs": [
    {
     "data": {
      "text/plain": [
       "'#set##'"
      ]
     },
     "execution_count": 13,
     "metadata": {},
     "output_type": "execute_result"
    }
   ],
   "source": [
    "x=\"set\"\n",
    "x.center(6,\"#\") "
   ]
  },
  {
   "cell_type": "code",
   "execution_count": 14,
   "id": "1eb5a8fe",
   "metadata": {},
   "outputs": [
    {
     "data": {
      "text/plain": [
       "'000set'"
      ]
     },
     "execution_count": 14,
     "metadata": {},
     "output_type": "execute_result"
    }
   ],
   "source": [
    "x=\"set\"\n",
    "x.zfill(6) "
   ]
  },
  {
   "cell_type": "code",
   "execution_count": 15,
   "id": "0b23afe9",
   "metadata": {},
   "outputs": [
    {
     "name": "stdout",
     "output_type": "stream",
     "text": [
      "set   \n",
      "       set\n",
      "set\n"
     ]
    }
   ],
   "source": [
    "x=\"       set   \"\n",
    "print(x.lstrip()) \n",
    "print(x.rstrip()) \n",
    "print(x.strip())   "
   ]
  },
  {
   "cell_type": "code",
   "execution_count": 16,
   "id": "a5e2156a",
   "metadata": {},
   "outputs": [
    {
     "name": "stdout",
     "output_type": "stream",
     "text": [
      "set       \n",
      "%%%%%%%set\n",
      "set*******\n"
     ]
    }
   ],
   "source": [
    "x=\"set\"\n",
    "print(x.ljust(10))\n",
    "print(x.rjust(10,\"%\"))\n",
    "print(x.ljust(10,\"*\"))"
   ]
  }
 ],
 "metadata": {
  "kernelspec": {
   "display_name": "Python 3 (ipykernel)",
   "language": "python",
   "name": "python3"
  },
  "language_info": {
   "codemirror_mode": {
    "name": "ipython",
    "version": 3
   },
   "file_extension": ".py",
   "mimetype": "text/x-python",
   "name": "python",
   "nbconvert_exporter": "python",
   "pygments_lexer": "ipython3",
   "version": "3.11.4"
  }
 },
 "nbformat": 4,
 "nbformat_minor": 5
}

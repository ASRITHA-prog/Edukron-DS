{
 "cells": [
  {
   "cell_type": "code",
   "execution_count": 1,
   "id": "7054c926",
   "metadata": {},
   "outputs": [
    {
     "data": {
      "text/plain": [
       "'C:\\\\Users\\\\DERANGULA ASRITHA'"
      ]
     },
     "execution_count": 1,
     "metadata": {},
     "output_type": "execute_result"
    }
   ],
   "source": [
    "pwd"
   ]
  },
  {
   "cell_type": "code",
   "execution_count": 2,
   "id": "47a0ce9f",
   "metadata": {},
   "outputs": [
    {
     "name": "stdout",
     "output_type": "stream",
     "text": [
      "<class 'list'>\n",
      "[1, 2.8, 3, 'data', (3+9j)]\n"
     ]
    }
   ],
   "source": [
    "x=[1,2.8,3,\"data\",3+9j]\n",
    "print(type(x))\n",
    "print(x)\n"
   ]
  },
  {
   "cell_type": "code",
   "execution_count": 3,
   "id": "2377f662",
   "metadata": {},
   "outputs": [
    {
     "data": {
      "text/plain": [
       "5"
      ]
     },
     "execution_count": 3,
     "metadata": {},
     "output_type": "execute_result"
    }
   ],
   "source": [
    "len(x)"
   ]
  },
  {
   "cell_type": "code",
   "execution_count": 4,
   "id": "14431a78",
   "metadata": {},
   "outputs": [
    {
     "data": {
      "text/plain": [
       "(int, float, str, complex)"
      ]
     },
     "execution_count": 4,
     "metadata": {},
     "output_type": "execute_result"
    }
   ],
   "source": [
    "type(x[0]),type(x[1]),type(x[3]),type(x[4])"
   ]
  },
  {
   "cell_type": "code",
   "execution_count": 5,
   "id": "069813d4",
   "metadata": {},
   "outputs": [
    {
     "name": "stdout",
     "output_type": "stream",
     "text": [
      "1\n",
      "[22, 2.8, 3, 'data', (3+9j)]\n"
     ]
    }
   ],
   "source": [
    "print(x[0])\n",
    "x[0]=22\n",
    "print(x)\n"
   ]
  },
  {
   "cell_type": "code",
   "execution_count": 7,
   "id": "e2b8ec24",
   "metadata": {},
   "outputs": [
    {
     "name": "stdout",
     "output_type": "stream",
     "text": [
      "1\n",
      "2\n",
      "3\n",
      "[1, 2, 3]\n",
      "1\n",
      "2\n",
      "3\n"
     ]
    }
   ],
   "source": [
    "x=[1,2,3,[1,2,3]]\n",
    "print(x[0])\n",
    "print(x[1])\n",
    "print(x[2])\n",
    "print(x[3])\n",
    "print(x[3][0])\n",
    "print(x[3][1])\n",
    "print(x[3][2])"
   ]
  },
  {
   "cell_type": "code",
   "execution_count": 8,
   "id": "b1468a4d",
   "metadata": {},
   "outputs": [
    {
     "name": "stdout",
     "output_type": "stream",
     "text": [
      "5\n"
     ]
    }
   ],
   "source": [
    "x=[1,2,3,[\"data\",\"science\",\"machine\"],[\"learnig\"]]\n",
    "print(len(x))"
   ]
  },
  {
   "cell_type": "code",
   "execution_count": 9,
   "id": "4426a85f",
   "metadata": {},
   "outputs": [
    {
     "data": {
      "text/plain": [
       "'ine'"
      ]
     },
     "execution_count": 9,
     "metadata": {},
     "output_type": "execute_result"
    }
   ],
   "source": [
    "x=[1,2,3,[\"data\",\"science\",\"machine\"],[\"learnig\"]]\n",
    "x[-2][-1][-3:]"
   ]
  },
  {
   "cell_type": "code",
   "execution_count": 10,
   "id": "042ebffd",
   "metadata": {},
   "outputs": [
    {
     "data": {
      "text/plain": [
       "'ING'"
      ]
     },
     "execution_count": 10,
     "metadata": {},
     "output_type": "execute_result"
    }
   ],
   "source": [
    "x=[1,2,3,[\"data\",\"science\",\"machine\"],[\"learing\"]]\n",
    "x[4][0][-3:].upper()"
   ]
  },
  {
   "cell_type": "code",
   "execution_count": 11,
   "id": "0ad3bd9a",
   "metadata": {},
   "outputs": [],
   "source": [
    "temperature_data = [\n",
    "\n",
    "[\n",
    "\n",
    "# Week 1\n",
    "\n",
    "[\"Monday\", [24.5, 34.2, 22.1, 36.0]],\n",
    "\n",
    "[\"Tuesday\", [25.0, 33.5, 23.0, 35.5]],\n",
    "\n",
    "[\"Wednesday\",[23.8, 32.0, 21.5, 34.0]],\n",
    "\n",
    "],\n",
    "\n",
    "[\n",
    "\n",
    "# Week 2\n",
    "\n",
    "[\"Monday\", [26.1, 35.0, 24.2, 37.2]],\n",
    "\n",
    "[\"Tuesday\", [25.8, 34.5, 23.7, 36.1]],\n",
    "\n",
    "[\"Wednesday\",[24.9, 33.3, 22.5, 35.7]],\n",
    "\n",
    "]\n",
    "\n",
    "]\n",
    "\n"
   ]
  },
  {
   "cell_type": "code",
   "execution_count": 12,
   "id": "b5e1ab1c",
   "metadata": {},
   "outputs": [
    {
     "data": {
      "text/plain": [
       "[[['Monday', [24.5, 34.2, 22.1, 36.0]],\n",
       "  ['Tuesday', [25.0, 33.5, 23.0, 35.5]],\n",
       "  ['Wednesday', [23.8, 32.0, 21.5, 34.0]]],\n",
       " [['Monday', [26.1, 35.0, 24.2, 37.2]],\n",
       "  ['Tuesday', [25.8, 34.5, 23.7, 36.1]],\n",
       "  ['Wednesday', [24.9, 33.3, 22.5, 35.7]]]]"
      ]
     },
     "execution_count": 12,
     "metadata": {},
     "output_type": "execute_result"
    }
   ],
   "source": [
    "temperature_data"
   ]
  },
  {
   "cell_type": "code",
   "execution_count": 13,
   "id": "f489fe9e",
   "metadata": {},
   "outputs": [
    {
     "data": {
      "text/plain": [
       "[23.8, 32.0, 21.5, 34.0]"
      ]
     },
     "execution_count": 13,
     "metadata": {},
     "output_type": "execute_result"
    }
   ],
   "source": [
    "temperature_data[0][2][1]"
   ]
  },
  {
   "cell_type": "code",
   "execution_count": 14,
   "id": "1f4909c1",
   "metadata": {},
   "outputs": [
    {
     "data": {
      "text/plain": [
       "36.1"
      ]
     },
     "execution_count": 14,
     "metadata": {},
     "output_type": "execute_result"
    }
   ],
   "source": [
    "temperature_data[1][1][1][-1]"
   ]
  },
  {
   "cell_type": "code",
   "execution_count": 15,
   "id": "6a4c3017",
   "metadata": {},
   "outputs": [
    {
     "data": {
      "text/plain": [
       "36.1"
      ]
     },
     "execution_count": 15,
     "metadata": {},
     "output_type": "execute_result"
    }
   ],
   "source": [
    "temperature_data[-1][-2][-1][-1]"
   ]
  },
  {
   "cell_type": "code",
   "execution_count": 16,
   "id": "ee9e39bb",
   "metadata": {},
   "outputs": [
    {
     "data": {
      "text/plain": [
       "[1, 2, 3, 10, [1, 2, 3]]"
      ]
     },
     "execution_count": 16,
     "metadata": {},
     "output_type": "execute_result"
    }
   ],
   "source": [
    "#list methods\n",
    "# 1. append -> It adds element at the end of the list\n",
    "#example :\n",
    "x=[1,2,3]\n",
    "x.append(10)\n",
    "x\n",
    "x.append([1,2,3])\n",
    "x"
   ]
  },
  {
   "cell_type": "code",
   "execution_count": 17,
   "id": "a04d48ec",
   "metadata": {},
   "outputs": [
    {
     "data": {
      "text/plain": [
       "[1, 2, 3, 4, 5, 6]"
      ]
     },
     "execution_count": 17,
     "metadata": {},
     "output_type": "execute_result"
    }
   ],
   "source": [
    "#2.extend -> instead of adding as a single element it extends the original list,it extracts based on the index and it append for each element in a list\n",
    "\n",
    "x=[1,2,3]\n",
    "x.extend([4,5,6])\n",
    "x \n"
   ]
  },
  {
   "cell_type": "code",
   "execution_count": 18,
   "id": "06fa2900",
   "metadata": {},
   "outputs": [
    {
     "data": {
      "text/plain": [
       "[1, 2, 3, 'd', 'a', 't', 'a']"
      ]
     },
     "execution_count": 18,
     "metadata": {},
     "output_type": "execute_result"
    }
   ],
   "source": [
    "y=[1,2,3]\n",
    "y.extend (\"data\")\n",
    "y"
   ]
  },
  {
   "cell_type": "code",
   "execution_count": 19,
   "id": "7fdc7e6b",
   "metadata": {},
   "outputs": [
    {
     "data": {
      "text/plain": [
       "[12, 23, 'data']"
      ]
     },
     "execution_count": 19,
     "metadata": {},
     "output_type": "execute_result"
    }
   ],
   "source": [
    "z=[12,23]\n",
    "z.extend ([\"data\"])\n",
    "z"
   ]
  },
  {
   "cell_type": "code",
   "execution_count": 20,
   "id": "ce2009d4",
   "metadata": {},
   "outputs": [
    {
     "data": {
      "text/plain": [
       "[1, 2, 4, 6]"
      ]
     },
     "execution_count": 20,
     "metadata": {},
     "output_type": "execute_result"
    }
   ],
   "source": [
    "#remove : removes the element from the list\n",
    "x=[1,2,3,4,6]\n",
    "x.remove(3)  \n",
    "x"
   ]
  },
  {
   "cell_type": "code",
   "execution_count": 21,
   "id": "1f9b2dd9",
   "metadata": {},
   "outputs": [
    {
     "data": {
      "text/plain": [
       "[1, 2, 3, 'data', 4, 6]"
      ]
     },
     "execution_count": 21,
     "metadata": {},
     "output_type": "execute_result"
    }
   ],
   "source": [
    "#4. insert : inserts the element by specifying the position\n",
    "x=[1,2,3,4,6]\n",
    "x.insert(3,\"data\") # insert(position,element)\n",
    "x # when number is larger then it inserts at the end of the list"
   ]
  },
  {
   "cell_type": "code",
   "execution_count": 22,
   "id": "f148d406",
   "metadata": {},
   "outputs": [
    {
     "data": {
      "text/plain": [
       "[]"
      ]
     },
     "execution_count": 22,
     "metadata": {},
     "output_type": "execute_result"
    }
   ],
   "source": [
    "# 5. clear --> it clears the total list\n",
    "x=[2,4,6]\n",
    "x.clear()\n",
    "x"
   ]
  },
  {
   "cell_type": "code",
   "execution_count": 23,
   "id": "628ade68",
   "metadata": {},
   "outputs": [
    {
     "data": {
      "text/plain": [
       "[1, 2, 4, 22, 23.2]"
      ]
     },
     "execution_count": 23,
     "metadata": {},
     "output_type": "execute_result"
    }
   ],
   "source": [
    "#6. sort --> it sorts the list in ascending order\n",
    "x=[1,2,22,23.2,4]\n",
    "x.sort()\n",
    "x"
   ]
  },
  {
   "cell_type": "code",
   "execution_count": 24,
   "id": "d5e94096",
   "metadata": {},
   "outputs": [
    {
     "data": {
      "text/plain": [
       "['A', 'ab', 'axc', 'xyz']"
      ]
     },
     "execution_count": 24,
     "metadata": {},
     "output_type": "execute_result"
    }
   ],
   "source": [
    "x=[\"xyz\",'ab','axc','A'] # it prioritizes capital letter then small letters\n",
    "x.sort()\n",
    "x\n",
    "# BUT WHEN THE LIST CONSIST OF BOTH STRING AND NUMBER THEN IT THROWS AN ERROR CANNOT BE SORTED"
   ]
  },
  {
   "cell_type": "code",
   "execution_count": 25,
   "id": "e3fae1a9",
   "metadata": {},
   "outputs": [
    {
     "data": {
      "text/plain": [
       "['xyz', 'axc', 'ab', 'A']"
      ]
     },
     "execution_count": 25,
     "metadata": {},
     "output_type": "execute_result"
    }
   ],
   "source": [
    "x=[\"xyz\",'ab','axc','A'] \n",
    "x.sort(reverse=True) # reverses the order like in descending order so reverse is used\n",
    "x"
   ]
  },
  {
   "cell_type": "code",
   "execution_count": 26,
   "id": "08505cdb",
   "metadata": {},
   "outputs": [
    {
     "data": {
      "text/plain": [
       "[4, 3, 2, 1]"
      ]
     },
     "execution_count": 26,
     "metadata": {},
     "output_type": "execute_result"
    }
   ],
   "source": [
    "#7.reverse -> it reverse the list elements\n",
    "x=[1,2,3,4]\n",
    "x.reverse()\n",
    "x"
   ]
  },
  {
   "cell_type": "code",
   "execution_count": 27,
   "id": "9700cc4f",
   "metadata": {},
   "outputs": [
    {
     "data": {
      "text/plain": [
       "['data', 4, 3, 2, 1]"
      ]
     },
     "execution_count": 27,
     "metadata": {},
     "output_type": "execute_result"
    }
   ],
   "source": [
    "x=[1,2,3,4,\"data\"]\n",
    "x.reverse()\n",
    "x"
   ]
  },
  {
   "cell_type": "code",
   "execution_count": 28,
   "id": "b79116a0",
   "metadata": {},
   "outputs": [
    {
     "name": "stdout",
     "output_type": "stream",
     "text": [
      "[1, 2, 222, 4]\n",
      "[1, 2, 222, 4]\n"
     ]
    }
   ],
   "source": [
    "x=[1,2,3,4]\n",
    "y=x\n",
    "y[2]=222\n",
    "print(y)\n",
    "print(x)  \n",
    "# this type of scenario is called shallow copy or copy by reference  \n",
    "#o/p : [1, 2, 222, 4]  [1, 2, 222, 4]"
   ]
  },
  {
   "cell_type": "code",
   "execution_count": 29,
   "id": "60d6a9b2",
   "metadata": {},
   "outputs": [
    {
     "name": "stdout",
     "output_type": "stream",
     "text": [
      "[1, 2, 222, 4]\n",
      "[1, 2, 3, 4]\n"
     ]
    }
   ],
   "source": [
    "#to avoid shallow copy we use copy () method\n",
    "# 8.copy--> it returns the new list\n",
    "x=[1,2,3,4]\n",
    "y=x.copy()\n",
    "y[2]=222\n",
    "print(y)\n",
    "print(x) "
   ]
  },
  {
   "cell_type": "code",
   "execution_count": 30,
   "id": "6a2f58ea",
   "metadata": {},
   "outputs": [
    {
     "data": {
      "text/plain": [
       "3"
      ]
     },
     "execution_count": 30,
     "metadata": {},
     "output_type": "execute_result"
    }
   ],
   "source": [
    "#9.count-->\n",
    "x=[1,2,4,4,5,2,2,1,1]\n",
    "x.count(1)"
   ]
  },
  {
   "cell_type": "code",
   "execution_count": 31,
   "id": "6357597d",
   "metadata": {},
   "outputs": [
    {
     "data": {
      "text/plain": [
       "2"
      ]
     },
     "execution_count": 31,
     "metadata": {},
     "output_type": "execute_result"
    }
   ],
   "source": [
    "x=[1,2,4,4,5,2,\"a\",\"d\",\"a\"]\n",
    "x.count(\"a\")"
   ]
  },
  {
   "cell_type": "code",
   "execution_count": 32,
   "id": "01ff92de",
   "metadata": {},
   "outputs": [
    {
     "data": {
      "text/plain": [
       "'a'"
      ]
     },
     "execution_count": 32,
     "metadata": {},
     "output_type": "execute_result"
    }
   ],
   "source": [
    "#10. pop-> it removes based on the element index\n",
    "x=[1,2,4,4,5,2,\"a\",\"d\",\"a\"]\n",
    "x.pop(-1)"
   ]
  },
  {
   "cell_type": "code",
   "execution_count": 33,
   "id": "4aa6b53e",
   "metadata": {},
   "outputs": [
    {
     "data": {
      "text/plain": [
       "'a'"
      ]
     },
     "execution_count": 33,
     "metadata": {},
     "output_type": "execute_result"
    }
   ],
   "source": [
    "x=[1,2,4,4,5,2,\"a\",\"d\",\"a\"]\n",
    "x.pop() # if we not mention any index value then it removes the last element of the list"
   ]
  },
  {
   "cell_type": "code",
   "execution_count": 34,
   "id": "fd998ca2",
   "metadata": {},
   "outputs": [
    {
     "data": {
      "text/plain": [
       "(str, tuple)"
      ]
     },
     "execution_count": 34,
     "metadata": {},
     "output_type": "execute_result"
    }
   ],
   "source": [
    "#tuple\n",
    "type(\"\"),type(())"
   ]
  },
  {
   "cell_type": "code",
   "execution_count": 35,
   "id": "e3595dba",
   "metadata": {},
   "outputs": [
    {
     "data": {
      "text/plain": [
       "tuple"
      ]
     },
     "execution_count": 35,
     "metadata": {},
     "output_type": "execute_result"
    }
   ],
   "source": [
    "x=(1,2,3)\n",
    "type(x)\n"
   ]
  },
  {
   "cell_type": "code",
   "execution_count": 37,
   "id": "0811d6e8",
   "metadata": {},
   "outputs": [
    {
     "data": {
      "text/plain": [
       "4"
      ]
     },
     "execution_count": 37,
     "metadata": {},
     "output_type": "execute_result"
    }
   ],
   "source": [
    "x=(1,2,3,4,5,1,1,1)\n",
    "x.count(1)"
   ]
  },
  {
   "cell_type": "code",
   "execution_count": 38,
   "id": "23fd0733",
   "metadata": {},
   "outputs": [
    {
     "data": {
      "text/plain": [
       "0"
      ]
     },
     "execution_count": 38,
     "metadata": {},
     "output_type": "execute_result"
    }
   ],
   "source": [
    "x=(1,2,3,4,5,1,1,1)\n",
    "x.index(1)"
   ]
  },
  {
   "cell_type": "code",
   "execution_count": 39,
   "id": "e12d7eb4",
   "metadata": {},
   "outputs": [
    {
     "data": {
      "text/plain": [
       "dict"
      ]
     },
     "execution_count": 39,
     "metadata": {},
     "output_type": "execute_result"
    }
   ],
   "source": [
    "##dictionaries -->it  contains key-value pairs seperated by :(colon)\n",
    "type({})"
   ]
  },
  {
   "cell_type": "code",
   "execution_count": 40,
   "id": "c6a2450a",
   "metadata": {},
   "outputs": [
    {
     "data": {
      "text/plain": [
       "{'name': 'data science', 'duration': 6}"
      ]
     },
     "execution_count": 40,
     "metadata": {},
     "output_type": "execute_result"
    }
   ],
   "source": [
    "student={\"name\":\"data science\",\"duration\":6}\n",
    "student"
   ]
  },
  {
   "cell_type": "code",
   "execution_count": 41,
   "id": "01c47f37",
   "metadata": {},
   "outputs": [
    {
     "name": "stdout",
     "output_type": "stream",
     "text": [
      "6\n",
      "data science\n"
     ]
    }
   ],
   "source": [
    "student={\"name\":\"data science\",\"duration\":6}\n",
    "print(student['duration'])\n",
    "print(student['name'])\n",
    "# list cannot be used as key as it throws an error where as tuple abd string can be used as key\n",
    "# most of the dictionaries are used in json files"
   ]
  },
  {
   "cell_type": "code",
   "execution_count": 42,
   "id": "7bd1b546",
   "metadata": {},
   "outputs": [],
   "source": [
    "employee_data = {\n",
    "\"EMP001\": {\n",
    "\"name\": \"Rahul Sharma\",\n",
    "\"age\": 29,\n",
    "\"department\": \"Finance\"\n",
    "},\n",
    "\"EMP002\": {\n",
    "\"name\": \"Priya Iyer\",\n",
    "\"age\": 26,\n",
    "\"department\": \"Human Resources\"\n",
    "}\n",
    "}"
   ]
  },
  {
   "cell_type": "code",
   "execution_count": 43,
   "id": "afb24ea5",
   "metadata": {},
   "outputs": [
    {
     "data": {
      "text/plain": [
       "'Finance'"
      ]
     },
     "execution_count": 43,
     "metadata": {},
     "output_type": "execute_result"
    }
   ],
   "source": [
    "employee_data['EMP001']['department']"
   ]
  },
  {
   "cell_type": "code",
   "execution_count": 44,
   "id": "4704806d",
   "metadata": {},
   "outputs": [
    {
     "data": {
      "text/plain": [
       "26"
      ]
     },
     "execution_count": 44,
     "metadata": {},
     "output_type": "execute_result"
    }
   ],
   "source": [
    "employee_data['EMP002']['age']"
   ]
  },
  {
   "cell_type": "code",
   "execution_count": 45,
   "id": "944a21da",
   "metadata": {},
   "outputs": [
    {
     "data": {
      "text/plain": [
       "dict_keys([1, 2])"
      ]
     },
     "execution_count": 45,
     "metadata": {},
     "output_type": "execute_result"
    }
   ],
   "source": [
    " #.keys() function is used to find all keys present in the dictionary\n",
    "d={1:\"data\",2:\"science\"}\n",
    "d.keys()\n",
    "\n"
   ]
  },
  {
   "cell_type": "code",
   "execution_count": 46,
   "id": "8726dd4c",
   "metadata": {},
   "outputs": [
    {
     "data": {
      "text/plain": [
       "dict_values(['data', 'science'])"
      ]
     },
     "execution_count": 46,
     "metadata": {},
     "output_type": "execute_result"
    }
   ],
   "source": [
    "#.values() function is used to find all value present in the dictionary\n",
    "d={1:\"data\",2:\"science\"}\n",
    "d.values()\n"
   ]
  },
  {
   "cell_type": "code",
   "execution_count": 47,
   "id": "07261e0f",
   "metadata": {},
   "outputs": [
    {
     "data": {
      "text/plain": [
       "dict_items([(1, 'data'), (2, 'science')])"
      ]
     },
     "execution_count": 47,
     "metadata": {},
     "output_type": "execute_result"
    }
   ],
   "source": [
    "#.items() method is used to find the dictionary key-value pairs\n",
    "d={1:\"data\",2:\"science\"}\n",
    "d.items()"
   ]
  },
  {
   "cell_type": "code",
   "execution_count": 48,
   "id": "e3fa7cb6",
   "metadata": {},
   "outputs": [
    {
     "data": {
      "text/plain": [
       "{1: 'data', 2: 'science'}"
      ]
     },
     "execution_count": 48,
     "metadata": {},
     "output_type": "execute_result"
    }
   ],
   "source": [
    "d"
   ]
  },
  {
   "cell_type": "code",
   "execution_count": 49,
   "id": "4493b275",
   "metadata": {},
   "outputs": [
    {
     "data": {
      "text/plain": [
       "{1: 'machine', 2: 'science'}"
      ]
     },
     "execution_count": 49,
     "metadata": {},
     "output_type": "execute_result"
    }
   ],
   "source": [
    "d[1]=\"machine\" # dictionary is a mutable because the elements of dictionary values can me modified\n",
    "d"
   ]
  },
  {
   "cell_type": "code",
   "execution_count": 50,
   "id": "61730a67",
   "metadata": {},
   "outputs": [
    {
     "data": {
      "text/plain": [
       "{1: 'machine', 2: 'science', 3: 'machine'}"
      ]
     },
     "execution_count": 50,
     "metadata": {},
     "output_type": "execute_result"
    }
   ],
   "source": [
    "d[3]=\"machine\" # in this scenario if the element is not present then it creates the new dictionary key -value pair in existion dictionary\n",
    "d"
   ]
  },
  {
   "cell_type": "code",
   "execution_count": 51,
   "id": "4e90a110",
   "metadata": {},
   "outputs": [
    {
     "data": {
      "text/plain": [
       "{1: 'machine', 2: 'science', 3: 'machine', 'data': 'learning'}"
      ]
     },
     "execution_count": 51,
     "metadata": {},
     "output_type": "execute_result"
    }
   ],
   "source": [
    "d[\"data\"]='learning'# in this scenario if the element is not present then it creates the new dictionary key -value pair in existion dictionary\n",
    "d"
   ]
  },
  {
   "cell_type": "code",
   "execution_count": 52,
   "id": "268c6b91",
   "metadata": {},
   "outputs": [
    {
     "data": {
      "text/plain": [
       "{1: 'machine', 2: 'science', 3: 'machine', 'data': 'learning'}"
      ]
     },
     "execution_count": 52,
     "metadata": {},
     "output_type": "execute_result"
    }
   ],
   "source": [
    "d\n"
   ]
  },
  {
   "cell_type": "code",
   "execution_count": 53,
   "id": "e39ba778",
   "metadata": {},
   "outputs": [
    {
     "data": {
      "text/plain": [
       "{1: 'machine', 2: 'science', 3: 'machine', 'data': 'science'}"
      ]
     },
     "execution_count": 53,
     "metadata": {},
     "output_type": "execute_result"
    }
   ],
   "source": [
    "#update:\n",
    "d.update({'data': \"science\"})\n",
    "d"
   ]
  },
  {
   "cell_type": "code",
   "execution_count": 54,
   "id": "a272b112",
   "metadata": {},
   "outputs": [
    {
     "data": {
      "text/plain": [
       "'machine'"
      ]
     },
     "execution_count": 54,
     "metadata": {},
     "output_type": "execute_result"
    }
   ],
   "source": [
    "#pop\n",
    "d.pop(3)"
   ]
  },
  {
   "cell_type": "code",
   "execution_count": 55,
   "id": "499147f6",
   "metadata": {},
   "outputs": [
    {
     "data": {
      "text/plain": [
       "{1: 'machine', 2: 'science', 'data': 'science'}"
      ]
     },
     "execution_count": 55,
     "metadata": {},
     "output_type": "execute_result"
    }
   ],
   "source": [
    "d\n"
   ]
  },
  {
   "cell_type": "code",
   "execution_count": 56,
   "id": "e856bb09",
   "metadata": {},
   "outputs": [
    {
     "data": {
      "text/plain": [
       "{1: 'machine', 2: 'science'}"
      ]
     },
     "execution_count": 56,
     "metadata": {},
     "output_type": "execute_result"
    }
   ],
   "source": [
    "#popitem -> it removes the last elemenyt from the dictionary\n",
    "d.popitem()\n",
    "d"
   ]
  },
  {
   "cell_type": "code",
   "execution_count": 57,
   "id": "7a044c60",
   "metadata": {},
   "outputs": [
    {
     "data": {
      "text/plain": [
       "{}"
      ]
     },
     "execution_count": 57,
     "metadata": {},
     "output_type": "execute_result"
    }
   ],
   "source": [
    "#clear\n",
    "d.clear()\n",
    "d"
   ]
  }
 ],
 "metadata": {
  "kernelspec": {
   "display_name": "Python 3 (ipykernel)",
   "language": "python",
   "name": "python3"
  },
  "language_info": {
   "codemirror_mode": {
    "name": "ipython",
    "version": 3
   },
   "file_extension": ".py",
   "mimetype": "text/x-python",
   "name": "python",
   "nbconvert_exporter": "python",
   "pygments_lexer": "ipython3",
   "version": "3.11.4"
  }
 },
 "nbformat": 4,
 "nbformat_minor": 5
}

{
 "cells": [
  {
   "cell_type": "code",
   "execution_count": 1,
   "metadata": {},
   "outputs": [
    {
     "data": {
      "text/plain": [
       "'C:\\\\Users\\\\DERANGULA ASRITHA'"
      ]
     },
     "execution_count": 1,
     "metadata": {},
     "output_type": "execute_result"
    }
   ],
   "source": [
    "pwd"
   ]
  },
  {
   "cell_type": "code",
   "execution_count": 2,
   "metadata": {
    "colab": {
     "base_uri": "https://localhost:8080/"
    },
    "id": "QPJdE5-NAD4I",
    "outputId": "3592ce3f-ddc5-4822-8497-3e4906e4bfcc",
    "scrolled": true
   },
   "outputs": [
    {
     "data": {
      "text/plain": [
       "array([[10, 40, 55, 42, 12],\n",
       "       [66, 20,  7, 79, 79],\n",
       "       [20, 76, 63,  3, 39],\n",
       "       [36, 78, 31, 99, 37],\n",
       "       [36, 30, 25, 68, 48]])"
      ]
     },
     "execution_count": 2,
     "metadata": {},
     "output_type": "execute_result"
    }
   ],
   "source": [
    "import numpy as np\n",
    "data=np.random.randint(0,100,(5,5))\n",
    "data"
   ]
  },
  {
   "cell_type": "code",
   "execution_count": 3,
   "metadata": {
    "colab": {
     "base_uri": "https://localhost:8080/"
    },
    "id": "NulTutiDDJJ_",
    "outputId": "d82cae64-87c4-471c-e523-5d0a6b925e60"
   },
   "outputs": [
    {
     "data": {
      "text/plain": [
       "numpy.ndarray"
      ]
     },
     "execution_count": 3,
     "metadata": {},
     "output_type": "execute_result"
    }
   ],
   "source": [
    "type(np.array([1,2,3]))"
   ]
  },
  {
   "cell_type": "code",
   "execution_count": 4,
   "metadata": {
    "colab": {
     "base_uri": "https://localhost:8080/"
    },
    "id": "lNDzGLmiDQNf",
    "outputId": "761c8e5a-ae0e-44f3-d29e-b813bc75dcf5"
   },
   "outputs": [
    {
     "data": {
      "text/plain": [
       "10"
      ]
     },
     "execution_count": 4,
     "metadata": {},
     "output_type": "execute_result"
    }
   ],
   "source": [
    "data[0,0]"
   ]
  },
  {
   "cell_type": "code",
   "execution_count": 5,
   "metadata": {
    "colab": {
     "base_uri": "https://localhost:8080/"
    },
    "id": "8d_NF512DTsc",
    "outputId": "2fd7f53a-f7eb-47a3-a1bc-8282012d5836"
   },
   "outputs": [
    {
     "name": "stdout",
     "output_type": "stream",
     "text": [
      "[[10 40 55 42 12]\n",
      " [66 20  7 79 79]\n",
      " [20 76 63  3 39]\n",
      " [36 78 31 99 37]\n",
      " [36 30 25 68 48]]\n",
      " \n"
     ]
    }
   ],
   "source": [
    "print(data)\n",
    "print(\" \")\n",
    "# print(data[-3:-1,-3:-1])"
   ]
  },
  {
   "cell_type": "code",
   "execution_count": 6,
   "metadata": {
    "colab": {
     "base_uri": "https://localhost:8080/"
    },
    "id": "ZYVQ-KQSDpAF",
    "outputId": "45ade515-29d4-4c91-d3a0-c1d3565bea21"
   },
   "outputs": [
    {
     "data": {
      "text/plain": [
       "array([[10, 40, 55, 42, 12],\n",
       "       [66, 20,  7, 79, 79],\n",
       "       [20, 76, 63,  3, 39],\n",
       "       [36, 78, 31, 99, 37],\n",
       "       [36, 30, 25, 68, 48]])"
      ]
     },
     "execution_count": 6,
     "metadata": {},
     "output_type": "execute_result"
    }
   ],
   "source": [
    "data"
   ]
  },
  {
   "cell_type": "code",
   "execution_count": 7,
   "metadata": {
    "colab": {
     "base_uri": "https://localhost:8080/"
    },
    "id": "7YseJcgVDnKs",
    "outputId": "e3c33aba-7c72-4c85-c91f-4fbe5d509304"
   },
   "outputs": [
    {
     "data": {
      "text/plain": [
       "array([[99]])"
      ]
     },
     "execution_count": 7,
     "metadata": {},
     "output_type": "execute_result"
    }
   ],
   "source": [
    "data[-2:-1,-2:-1]"
   ]
  },
  {
   "cell_type": "code",
   "execution_count": 8,
   "metadata": {
    "colab": {
     "base_uri": "https://localhost:8080/"
    },
    "id": "jAwUEY2GD6nc",
    "outputId": "52802f98-6961-4988-84d9-f6800d52ce8e"
   },
   "outputs": [
    {
     "name": "stdout",
     "output_type": "stream",
     "text": [
      "<class 'list'>\n",
      "<class 'numpy.ndarray'>\n"
     ]
    }
   ],
   "source": [
    "x=[1,2,3]\n",
    "print(type(x))\n",
    "y=np.array([1,2,3])\n",
    "print(type(y))"
   ]
  },
  {
   "cell_type": "code",
   "execution_count": 9,
   "metadata": {
    "colab": {
     "base_uri": "https://localhost:8080/",
     "height": 141
    },
    "id": "brAZZNy4D6kv",
    "outputId": "ce2b5624-b890-48ba-a153-47213de35071"
   },
   "outputs": [
    {
     "ename": "TypeError",
     "evalue": "unsupported operand type(s) for /: 'list' and 'int'",
     "output_type": "error",
     "traceback": [
      "\u001b[1;31m---------------------------------------------------------------------------\u001b[0m",
      "\u001b[1;31mTypeError\u001b[0m                                 Traceback (most recent call last)",
      "Cell \u001b[1;32mIn[9], line 1\u001b[0m\n\u001b[1;32m----> 1\u001b[0m x\u001b[38;5;241m/\u001b[39m\u001b[38;5;241m2\u001b[39m\n",
      "\u001b[1;31mTypeError\u001b[0m: unsupported operand type(s) for /: 'list' and 'int'"
     ]
    }
   ],
   "source": [
    "#differences\n",
    "# 1. If we perform operations(like +,-,/,*) on list  it throws error showing cannot perform operations on list where as in numpy array it is designed to perfrom all element arithmentic operations\n",
    "x/2"
   ]
  },
  {
   "cell_type": "code",
   "execution_count": 10,
   "metadata": {
    "colab": {
     "base_uri": "https://localhost:8080/"
    },
    "id": "BoiW1tFbD6iN",
    "outputId": "20722db7-efb7-405b-d17c-f4290eebc50b"
   },
   "outputs": [
    {
     "data": {
      "text/plain": [
       "array([0.5, 1. , 1.5])"
      ]
     },
     "execution_count": 10,
     "metadata": {},
     "output_type": "execute_result"
    }
   ],
   "source": [
    "y/2"
   ]
  },
  {
   "cell_type": "code",
   "execution_count": 11,
   "metadata": {
    "id": "8ECl6pSAD6fj"
   },
   "outputs": [],
   "source": [
    "x=[1,2,3,6.0,\"data\"]\n",
    "y=np.array([1,2,3,6.0,\"data\"])"
   ]
  },
  {
   "cell_type": "code",
   "execution_count": 12,
   "metadata": {
    "colab": {
     "base_uri": "https://localhost:8080/"
    },
    "id": "wzdE_rUVD6c9",
    "outputId": "351fbc00-32a5-49d1-d1fa-37660003e530"
   },
   "outputs": [
    {
     "data": {
      "text/plain": [
       "[1, 2, 3, 6.0, 'data']"
      ]
     },
     "execution_count": 12,
     "metadata": {},
     "output_type": "execute_result"
    }
   ],
   "source": [
    "x"
   ]
  },
  {
   "cell_type": "code",
   "execution_count": 13,
   "metadata": {
    "colab": {
     "base_uri": "https://localhost:8080/"
    },
    "id": "cNdWWAhwD6aG",
    "outputId": "e8276322-d58e-4b2c-8ffa-fa18d02a6e87"
   },
   "outputs": [
    {
     "data": {
      "text/plain": [
       "array(['1', '2', '3', '6.0', 'data'], dtype='<U32')"
      ]
     },
     "execution_count": 13,
     "metadata": {},
     "output_type": "execute_result"
    }
   ],
   "source": [
    "y"
   ]
  },
  {
   "cell_type": "code",
   "execution_count": 14,
   "metadata": {
    "id": "7m2TVFmVGJHF"
   },
   "outputs": [],
   "source": [
    "### Random family functions"
   ]
  },
  {
   "cell_type": "code",
   "execution_count": 15,
   "metadata": {
    "colab": {
     "base_uri": "https://localhost:8080/"
    },
    "id": "vbH2VYWlGJAm",
    "outputId": "8062d7aa-151e-47a1-cc20-228c4b746f02"
   },
   "outputs": [
    {
     "data": {
      "text/plain": [
       "array([[44, 44, 44, 79, 13,  0, 16, 21, 87, 47],\n",
       "       [51,  2, 11, 20, 72, 24, 42, 38, 34, 89],\n",
       "       [55, 46, 79, 71,  2, 49, 37,  5, 16, 93],\n",
       "       [74, 94, 40, 17, 45, 35, 26, 23, 37, 61],\n",
       "       [90, 13, 58,  8, 61, 21, 48, 22, 40, 10]])"
      ]
     },
     "execution_count": 15,
     "metadata": {},
     "output_type": "execute_result"
    }
   ],
   "source": [
    "np.random.randint(0,100,(5,10))"
   ]
  },
  {
   "cell_type": "code",
   "execution_count": 16,
   "metadata": {
    "colab": {
     "base_uri": "https://localhost:8080/"
    },
    "id": "Teca-uY5GI-J",
    "outputId": "da875112-18ce-4615-e89c-0b2e89d732cf"
   },
   "outputs": [
    {
     "data": {
      "text/plain": [
       "array([[0.46955094, 0.56160249, 0.15765994],\n",
       "       [0.48359703, 0.610947  , 0.26155548],\n",
       "       [0.69408747, 0.86966672, 0.76743122]])"
      ]
     },
     "execution_count": 16,
     "metadata": {},
     "output_type": "execute_result"
    }
   ],
   "source": [
    "np.random.rand(3,3)"
   ]
  },
  {
   "cell_type": "code",
   "execution_count": 17,
   "metadata": {
    "colab": {
     "base_uri": "https://localhost:8080/"
    },
    "id": "zdBFTPAxG0Nk",
    "outputId": "d33952c3-bd62-46d7-c203-e0ea8ec8c435"
   },
   "outputs": [
    {
     "data": {
      "text/plain": [
       "array([0.        , 0.33333333, 0.66666667, 1.        ])"
      ]
     },
     "execution_count": 17,
     "metadata": {},
     "output_type": "execute_result"
    }
   ],
   "source": [
    "data=np.array([1,2,3,4])\n",
    "(data-data.min())/(data.max()-data.min())"
   ]
  },
  {
   "cell_type": "code",
   "execution_count": 18,
   "metadata": {
    "colab": {
     "base_uri": "https://localhost:8080/"
    },
    "id": "iiIRUSrSG0Ku",
    "outputId": "c2f56dc9-e36c-412f-e342-052dea4abf83"
   },
   "outputs": [
    {
     "data": {
      "text/plain": [
       "array([0.        , 0.33333333, 0.66666667, 1.        ])"
      ]
     },
     "execution_count": 18,
     "metadata": {},
     "output_type": "execute_result"
    }
   ],
   "source": [
    "(data-data.min())/(data.max()-data.min())"
   ]
  },
  {
   "cell_type": "code",
   "execution_count": 21,
   "metadata": {
    "id": "IHsyCpviG0IL"
   },
   "outputs": [
    {
     "data": {
      "text/plain": [
       "array([[0.8740638 , 0.74311957, 0.99913273],\n",
       "       [0.59642076, 0.84895241, 0.79018061],\n",
       "       [0.46618808, 0.91668294, 0.74896727]])"
      ]
     },
     "execution_count": 21,
     "metadata": {},
     "output_type": "execute_result"
    }
   ],
   "source": [
    "np.random.rand(3,3)  # rand will give numeric values ranging form 0 to 1"
   ]
  },
  {
   "cell_type": "code",
   "execution_count": 22,
   "metadata": {},
   "outputs": [
    {
     "data": {
      "text/plain": [
       "array([0.21633879, 0.65379416, 0.91439212, 0.56366402, 0.88242774,\n",
       "       0.72204238, 0.34741244, 0.09628809, 0.45525952, 0.44036788,\n",
       "       0.39705764, 0.96186539, 0.2919618 , 0.53557129, 0.17735164,\n",
       "       0.21562854, 0.95925541, 0.38423336, 0.90199816, 0.34514071,\n",
       "       0.98016589, 0.08466436, 0.10304225, 0.34265815, 0.61025999,\n",
       "       0.35584475, 0.09926216, 0.96728082, 0.52234586, 0.39257328,\n",
       "       0.6164476 , 0.15771194, 0.51020135, 0.51328278, 0.03847518,\n",
       "       0.42937497, 0.85472071, 0.49951807, 0.93918479, 0.55956019,\n",
       "       0.80333247, 0.24106026, 0.69824146, 0.08709278, 0.48024078,\n",
       "       0.10806412, 0.31777561, 0.47171102, 0.23499389, 0.81125113,\n",
       "       0.57871134, 0.78662555, 0.53163073, 0.06357419, 0.0434355 ,\n",
       "       0.49960849, 0.20845771, 0.55333936, 0.04805352, 0.17868453,\n",
       "       0.22749357, 0.63922232, 0.67344914, 0.22677724, 0.40284463,\n",
       "       0.46627243, 0.69540469, 0.48165256, 0.75409635, 0.72259195,\n",
       "       0.96610134, 0.63645874, 0.45191893, 0.47668809, 0.51354552,\n",
       "       0.60147093, 0.78853632, 0.0711658 , 0.23656147, 0.27708406,\n",
       "       0.49971394, 0.37863185, 0.96855803, 0.83158093, 0.24764766,\n",
       "       0.96650909, 0.02963274, 0.09005461, 0.43493209, 0.61132887,\n",
       "       0.11474496, 0.99140506, 0.52620962, 0.69272168, 0.83472571,\n",
       "       0.15145826, 0.14613556, 0.73222838, 0.86503853, 0.80690254])"
      ]
     },
     "execution_count": 22,
     "metadata": {},
     "output_type": "execute_result"
    }
   ],
   "source": [
    "np.random.rand(100)"
   ]
  },
  {
   "cell_type": "code",
   "execution_count": 23,
   "metadata": {},
   "outputs": [
    {
     "data": {
      "text/plain": [
       "array([0.        , 0.33333333, 0.66666667, 1.        ])"
      ]
     },
     "execution_count": 23,
     "metadata": {},
     "output_type": "execute_result"
    }
   ],
   "source": [
    "import numpy as np\n",
    "data=np.array([1,2,3,4])\n",
    "(data-data.min())/(data.max()-data.min())    # scaling the data , this is also known as normalization of data and it is also known as min-max scaling "
   ]
  }
 ],
 "metadata": {
  "colab": {
   "provenance": []
  },
  "kernelspec": {
   "display_name": "Python 3 (ipykernel)",
   "language": "python",
   "name": "python3"
  },
  "language_info": {
   "codemirror_mode": {
    "name": "ipython",
    "version": 3
   },
   "file_extension": ".py",
   "mimetype": "text/x-python",
   "name": "python",
   "nbconvert_exporter": "python",
   "pygments_lexer": "ipython3",
   "version": "3.11.4"
  }
 },
 "nbformat": 4,
 "nbformat_minor": 1
}
